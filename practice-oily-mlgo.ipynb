{
 "cells": [
  {
   "cell_type": "code",
   "execution_count": 1,
   "id": "86fccb5a",
   "metadata": {
    "_cell_guid": "b1076dfc-b9ad-4769-8c92-a6c4dae69d19",
    "_uuid": "8f2839f25d086af736a60e9eeb907d3b93b6e0e5",
    "execution": {
     "iopub.execute_input": "2023-01-17T11:50:02.519159Z",
     "iopub.status.busy": "2023-01-17T11:50:02.518660Z",
     "iopub.status.idle": "2023-01-17T11:50:02.538673Z",
     "shell.execute_reply": "2023-01-17T11:50:02.537515Z"
    },
    "papermill": {
     "duration": 0.03266,
     "end_time": "2023-01-17T11:50:02.541328",
     "exception": false,
     "start_time": "2023-01-17T11:50:02.508668",
     "status": "completed"
    },
    "tags": []
   },
   "outputs": [
    {
     "name": "stdout",
     "output_type": "stream",
     "text": [
      "/kaggle/input/oily-mlgo-hackathon-data/sample_submission.csv\n",
      "/kaggle/input/oily-mlgo-hackathon-data/train.csv\n",
      "/kaggle/input/oily-mlgo-hackathon-data/test.csv\n"
     ]
    }
   ],
   "source": [
    "# This Python 3 environment comes with many helpful analytics libraries installed\n",
    "# It is defined by the kaggle/python Docker image: https://github.com/kaggle/docker-python\n",
    "# For example, here's several helpful packages to load\n",
    "\n",
    "import numpy as np # linear algebra\n",
    "import pandas as pd # data processing, CSV file I/O (e.g. pd.read_csv)\n",
    "\n",
    "# Input data files are available in the read-only \"../input/\" directory\n",
    "# For example, running this (by clicking run or pressing Shift+Enter) will list all files under the input directory\n",
    "\n",
    "import os\n",
    "for dirname, _, filenames in os.walk('/kaggle/input'):\n",
    "    for filename in filenames:\n",
    "        print(os.path.join(dirname, filename))\n",
    "\n",
    "# You can write up to 20GB to the current directory (/kaggle/working/) that gets preserved as output when you create a version using \"Save & Run All\" \n",
    "# You can also write temporary files to /kaggle/temp/, but they won't be saved outside of the current session"
   ]
  },
  {
   "cell_type": "markdown",
   "id": "30523f96",
   "metadata": {
    "papermill": {
     "duration": 0.006402,
     "end_time": "2023-01-17T11:50:02.555120",
     "exception": false,
     "start_time": "2023-01-17T11:50:02.548718",
     "status": "completed"
    },
    "tags": []
   },
   "source": [
    "importing the train data"
   ]
  },
  {
   "cell_type": "code",
   "execution_count": 2,
   "id": "58a3886a",
   "metadata": {
    "execution": {
     "iopub.execute_input": "2023-01-17T11:50:02.570279Z",
     "iopub.status.busy": "2023-01-17T11:50:02.569611Z",
     "iopub.status.idle": "2023-01-17T11:50:02.673483Z",
     "shell.execute_reply": "2023-01-17T11:50:02.672138Z"
    },
    "papermill": {
     "duration": 0.115074,
     "end_time": "2023-01-17T11:50:02.676767",
     "exception": false,
     "start_time": "2023-01-17T11:50:02.561693",
     "status": "completed"
    },
    "tags": []
   },
   "outputs": [
    {
     "data": {
      "text/html": [
       "<div>\n",
       "<style scoped>\n",
       "    .dataframe tbody tr th:only-of-type {\n",
       "        vertical-align: middle;\n",
       "    }\n",
       "\n",
       "    .dataframe tbody tr th {\n",
       "        vertical-align: top;\n",
       "    }\n",
       "\n",
       "    .dataframe thead th {\n",
       "        text-align: right;\n",
       "    }\n",
       "</style>\n",
       "<table border=\"1\" class=\"dataframe\">\n",
       "  <thead>\n",
       "    <tr style=\"text-align: right;\">\n",
       "      <th></th>\n",
       "      <th>CAL</th>\n",
       "      <th>CNC</th>\n",
       "      <th>GR</th>\n",
       "      <th>HRD</th>\n",
       "      <th>HRM</th>\n",
       "      <th>PE</th>\n",
       "      <th>ZDEN</th>\n",
       "      <th>DTC</th>\n",
       "      <th>DTS</th>\n",
       "    </tr>\n",
       "  </thead>\n",
       "  <tbody>\n",
       "    <tr>\n",
       "      <th>0</th>\n",
       "      <td>-999.0</td>\n",
       "      <td>-999.0</td>\n",
       "      <td>41.4699</td>\n",
       "      <td>-999.0</td>\n",
       "      <td>-999.0</td>\n",
       "      <td>-999.0</td>\n",
       "      <td>-999.0</td>\n",
       "      <td>128.0737</td>\n",
       "      <td>319.0654</td>\n",
       "    </tr>\n",
       "    <tr>\n",
       "      <th>1</th>\n",
       "      <td>-999.0</td>\n",
       "      <td>-999.0</td>\n",
       "      <td>42.5053</td>\n",
       "      <td>-999.0</td>\n",
       "      <td>-999.0</td>\n",
       "      <td>-999.0</td>\n",
       "      <td>-999.0</td>\n",
       "      <td>127.8347</td>\n",
       "      <td>318.7825</td>\n",
       "    </tr>\n",
       "    <tr>\n",
       "      <th>2</th>\n",
       "      <td>-999.0</td>\n",
       "      <td>-999.0</td>\n",
       "      <td>43.1548</td>\n",
       "      <td>-999.0</td>\n",
       "      <td>-999.0</td>\n",
       "      <td>-999.0</td>\n",
       "      <td>-999.0</td>\n",
       "      <td>127.2307</td>\n",
       "      <td>317.3323</td>\n",
       "    </tr>\n",
       "    <tr>\n",
       "      <th>3</th>\n",
       "      <td>-999.0</td>\n",
       "      <td>-999.0</td>\n",
       "      <td>43.2410</td>\n",
       "      <td>-999.0</td>\n",
       "      <td>-999.0</td>\n",
       "      <td>-999.0</td>\n",
       "      <td>-999.0</td>\n",
       "      <td>126.2917</td>\n",
       "      <td>313.6486</td>\n",
       "    </tr>\n",
       "    <tr>\n",
       "      <th>4</th>\n",
       "      <td>-999.0</td>\n",
       "      <td>-999.0</td>\n",
       "      <td>40.3218</td>\n",
       "      <td>-999.0</td>\n",
       "      <td>-999.0</td>\n",
       "      <td>-999.0</td>\n",
       "      <td>-999.0</td>\n",
       "      <td>125.3985</td>\n",
       "      <td>307.8903</td>\n",
       "    </tr>\n",
       "  </tbody>\n",
       "</table>\n",
       "</div>"
      ],
      "text/plain": [
       "     CAL    CNC       GR    HRD    HRM     PE   ZDEN       DTC       DTS\n",
       "0 -999.0 -999.0  41.4699 -999.0 -999.0 -999.0 -999.0  128.0737  319.0654\n",
       "1 -999.0 -999.0  42.5053 -999.0 -999.0 -999.0 -999.0  127.8347  318.7825\n",
       "2 -999.0 -999.0  43.1548 -999.0 -999.0 -999.0 -999.0  127.2307  317.3323\n",
       "3 -999.0 -999.0  43.2410 -999.0 -999.0 -999.0 -999.0  126.2917  313.6486\n",
       "4 -999.0 -999.0  40.3218 -999.0 -999.0 -999.0 -999.0  125.3985  307.8903"
      ]
     },
     "execution_count": 2,
     "metadata": {},
     "output_type": "execute_result"
    }
   ],
   "source": [
    "train_data=pd.read_csv('/kaggle/input/oily-mlgo-hackathon-data/train.csv')\n",
    "train_data.head()"
   ]
  },
  {
   "cell_type": "markdown",
   "id": "e557fe58",
   "metadata": {
    "papermill": {
     "duration": 0.007005,
     "end_time": "2023-01-17T11:50:02.691528",
     "exception": false,
     "start_time": "2023-01-17T11:50:02.684523",
     "status": "completed"
    },
    "tags": []
   },
   "source": [
    "importing test data"
   ]
  },
  {
   "cell_type": "code",
   "execution_count": 3,
   "id": "e1323566",
   "metadata": {
    "execution": {
     "iopub.execute_input": "2023-01-17T11:50:02.707472Z",
     "iopub.status.busy": "2023-01-17T11:50:02.707007Z",
     "iopub.status.idle": "2023-01-17T11:50:02.746496Z",
     "shell.execute_reply": "2023-01-17T11:50:02.745419Z"
    },
    "papermill": {
     "duration": 0.050396,
     "end_time": "2023-01-17T11:50:02.748964",
     "exception": false,
     "start_time": "2023-01-17T11:50:02.698568",
     "status": "completed"
    },
    "tags": []
   },
   "outputs": [
    {
     "data": {
      "text/html": [
       "<div>\n",
       "<style scoped>\n",
       "    .dataframe tbody tr th:only-of-type {\n",
       "        vertical-align: middle;\n",
       "    }\n",
       "\n",
       "    .dataframe tbody tr th {\n",
       "        vertical-align: top;\n",
       "    }\n",
       "\n",
       "    .dataframe thead th {\n",
       "        text-align: right;\n",
       "    }\n",
       "</style>\n",
       "<table border=\"1\" class=\"dataframe\">\n",
       "  <thead>\n",
       "    <tr style=\"text-align: right;\">\n",
       "      <th></th>\n",
       "      <th>CAL</th>\n",
       "      <th>CNC</th>\n",
       "      <th>GR</th>\n",
       "      <th>HRD</th>\n",
       "      <th>HRM</th>\n",
       "      <th>PE</th>\n",
       "      <th>ZDEN</th>\n",
       "    </tr>\n",
       "  </thead>\n",
       "  <tbody>\n",
       "    <tr>\n",
       "      <th>0</th>\n",
       "      <td>8.5781</td>\n",
       "      <td>0.3521</td>\n",
       "      <td>55.1824</td>\n",
       "      <td>0.8121</td>\n",
       "      <td>0.7810</td>\n",
       "      <td>6.8291</td>\n",
       "      <td>2.3256</td>\n",
       "    </tr>\n",
       "    <tr>\n",
       "      <th>1</th>\n",
       "      <td>8.5781</td>\n",
       "      <td>0.3639</td>\n",
       "      <td>57.0114</td>\n",
       "      <td>0.8038</td>\n",
       "      <td>0.7723</td>\n",
       "      <td>6.8100</td>\n",
       "      <td>2.3255</td>\n",
       "    </tr>\n",
       "    <tr>\n",
       "      <th>2</th>\n",
       "      <td>8.5781</td>\n",
       "      <td>0.3703</td>\n",
       "      <td>58.9263</td>\n",
       "      <td>0.7444</td>\n",
       "      <td>0.7048</td>\n",
       "      <td>6.7766</td>\n",
       "      <td>2.3212</td>\n",
       "    </tr>\n",
       "    <tr>\n",
       "      <th>3</th>\n",
       "      <td>8.5625</td>\n",
       "      <td>0.3667</td>\n",
       "      <td>57.3308</td>\n",
       "      <td>0.7169</td>\n",
       "      <td>0.6542</td>\n",
       "      <td>6.7219</td>\n",
       "      <td>2.3119</td>\n",
       "    </tr>\n",
       "    <tr>\n",
       "      <th>4</th>\n",
       "      <td>8.5781</td>\n",
       "      <td>0.3500</td>\n",
       "      <td>53.0624</td>\n",
       "      <td>0.6845</td>\n",
       "      <td>0.6109</td>\n",
       "      <td>6.6384</td>\n",
       "      <td>2.2982</td>\n",
       "    </tr>\n",
       "  </tbody>\n",
       "</table>\n",
       "</div>"
      ],
      "text/plain": [
       "      CAL     CNC       GR     HRD     HRM      PE    ZDEN\n",
       "0  8.5781  0.3521  55.1824  0.8121  0.7810  6.8291  2.3256\n",
       "1  8.5781  0.3639  57.0114  0.8038  0.7723  6.8100  2.3255\n",
       "2  8.5781  0.3703  58.9263  0.7444  0.7048  6.7766  2.3212\n",
       "3  8.5625  0.3667  57.3308  0.7169  0.6542  6.7219  2.3119\n",
       "4  8.5781  0.3500  53.0624  0.6845  0.6109  6.6384  2.2982"
      ]
     },
     "execution_count": 3,
     "metadata": {},
     "output_type": "execute_result"
    }
   ],
   "source": [
    "test_data=pd.read_csv('/kaggle/input/oily-mlgo-hackathon-data/test.csv')\n",
    "test_data.head()"
   ]
  },
  {
   "cell_type": "markdown",
   "id": "2e67d62a",
   "metadata": {
    "papermill": {
     "duration": 0.006877,
     "end_time": "2023-01-17T11:50:02.763044",
     "exception": false,
     "start_time": "2023-01-17T11:50:02.756167",
     "status": "completed"
    },
    "tags": []
   },
   "source": [
    "figuring out the important features for prediction of the target variables"
   ]
  },
  {
   "cell_type": "code",
   "execution_count": 4,
   "id": "98a30bfc",
   "metadata": {
    "execution": {
     "iopub.execute_input": "2023-01-17T11:50:02.780344Z",
     "iopub.status.busy": "2023-01-17T11:50:02.779929Z",
     "iopub.status.idle": "2023-01-17T11:50:02.796886Z",
     "shell.execute_reply": "2023-01-17T11:50:02.795659Z"
    },
    "papermill": {
     "duration": 0.029094,
     "end_time": "2023-01-17T11:50:02.799209",
     "exception": false,
     "start_time": "2023-01-17T11:50:02.770115",
     "status": "completed"
    },
    "tags": []
   },
   "outputs": [
    {
     "data": {
      "text/html": [
       "<div>\n",
       "<style scoped>\n",
       "    .dataframe tbody tr th:only-of-type {\n",
       "        vertical-align: middle;\n",
       "    }\n",
       "\n",
       "    .dataframe tbody tr th {\n",
       "        vertical-align: top;\n",
       "    }\n",
       "\n",
       "    .dataframe thead th {\n",
       "        text-align: right;\n",
       "    }\n",
       "</style>\n",
       "<table border=\"1\" class=\"dataframe\">\n",
       "  <thead>\n",
       "    <tr style=\"text-align: right;\">\n",
       "      <th></th>\n",
       "      <th>CAL</th>\n",
       "      <th>CNC</th>\n",
       "      <th>GR</th>\n",
       "      <th>HRD</th>\n",
       "      <th>HRM</th>\n",
       "      <th>PE</th>\n",
       "      <th>ZDEN</th>\n",
       "    </tr>\n",
       "  </thead>\n",
       "  <tbody>\n",
       "    <tr>\n",
       "      <th>0</th>\n",
       "      <td>-999.0</td>\n",
       "      <td>-999.0</td>\n",
       "      <td>41.4699</td>\n",
       "      <td>-999.0</td>\n",
       "      <td>-999.0</td>\n",
       "      <td>-999.0</td>\n",
       "      <td>-999.0</td>\n",
       "    </tr>\n",
       "    <tr>\n",
       "      <th>1</th>\n",
       "      <td>-999.0</td>\n",
       "      <td>-999.0</td>\n",
       "      <td>42.5053</td>\n",
       "      <td>-999.0</td>\n",
       "      <td>-999.0</td>\n",
       "      <td>-999.0</td>\n",
       "      <td>-999.0</td>\n",
       "    </tr>\n",
       "    <tr>\n",
       "      <th>2</th>\n",
       "      <td>-999.0</td>\n",
       "      <td>-999.0</td>\n",
       "      <td>43.1548</td>\n",
       "      <td>-999.0</td>\n",
       "      <td>-999.0</td>\n",
       "      <td>-999.0</td>\n",
       "      <td>-999.0</td>\n",
       "    </tr>\n",
       "    <tr>\n",
       "      <th>3</th>\n",
       "      <td>-999.0</td>\n",
       "      <td>-999.0</td>\n",
       "      <td>43.2410</td>\n",
       "      <td>-999.0</td>\n",
       "      <td>-999.0</td>\n",
       "      <td>-999.0</td>\n",
       "      <td>-999.0</td>\n",
       "    </tr>\n",
       "    <tr>\n",
       "      <th>4</th>\n",
       "      <td>-999.0</td>\n",
       "      <td>-999.0</td>\n",
       "      <td>40.3218</td>\n",
       "      <td>-999.0</td>\n",
       "      <td>-999.0</td>\n",
       "      <td>-999.0</td>\n",
       "      <td>-999.0</td>\n",
       "    </tr>\n",
       "  </tbody>\n",
       "</table>\n",
       "</div>"
      ],
      "text/plain": [
       "     CAL    CNC       GR    HRD    HRM     PE   ZDEN\n",
       "0 -999.0 -999.0  41.4699 -999.0 -999.0 -999.0 -999.0\n",
       "1 -999.0 -999.0  42.5053 -999.0 -999.0 -999.0 -999.0\n",
       "2 -999.0 -999.0  43.1548 -999.0 -999.0 -999.0 -999.0\n",
       "3 -999.0 -999.0  43.2410 -999.0 -999.0 -999.0 -999.0\n",
       "4 -999.0 -999.0  40.3218 -999.0 -999.0 -999.0 -999.0"
      ]
     },
     "execution_count": 4,
     "metadata": {},
     "output_type": "execute_result"
    }
   ],
   "source": [
    "X_train=train_data.iloc[:,0:7]\n",
    "X_train.head()"
   ]
  },
  {
   "cell_type": "code",
   "execution_count": 5,
   "id": "eaf60ba5",
   "metadata": {
    "execution": {
     "iopub.execute_input": "2023-01-17T11:50:02.815532Z",
     "iopub.status.busy": "2023-01-17T11:50:02.815097Z",
     "iopub.status.idle": "2023-01-17T11:50:02.827101Z",
     "shell.execute_reply": "2023-01-17T11:50:02.825972Z"
    },
    "papermill": {
     "duration": 0.023175,
     "end_time": "2023-01-17T11:50:02.829560",
     "exception": false,
     "start_time": "2023-01-17T11:50:02.806385",
     "status": "completed"
    },
    "tags": []
   },
   "outputs": [
    {
     "data": {
      "text/plain": [
       "0    128.0737\n",
       "1    127.8347\n",
       "2    127.2307\n",
       "3    126.2917\n",
       "4    125.3985\n",
       "Name: DTC, dtype: float64"
      ]
     },
     "execution_count": 5,
     "metadata": {},
     "output_type": "execute_result"
    }
   ],
   "source": [
    "y1_train=train_data['DTC']\n",
    "y2_train=train_data['DTS']\n",
    "y1_train.head()"
   ]
  },
  {
   "cell_type": "code",
   "execution_count": 6,
   "id": "f19d92be",
   "metadata": {
    "execution": {
     "iopub.execute_input": "2023-01-17T11:50:02.845959Z",
     "iopub.status.busy": "2023-01-17T11:50:02.845569Z",
     "iopub.status.idle": "2023-01-17T11:50:02.865758Z",
     "shell.execute_reply": "2023-01-17T11:50:02.864360Z"
    },
    "papermill": {
     "duration": 0.031877,
     "end_time": "2023-01-17T11:50:02.868707",
     "exception": false,
     "start_time": "2023-01-17T11:50:02.836830",
     "status": "completed"
    },
    "tags": []
   },
   "outputs": [
    {
     "name": "stdout",
     "output_type": "stream",
     "text": [
      "<class 'pandas.core.frame.DataFrame'>\n",
      "RangeIndex: 30143 entries, 0 to 30142\n",
      "Data columns (total 7 columns):\n",
      " #   Column  Non-Null Count  Dtype  \n",
      "---  ------  --------------  -----  \n",
      " 0   CAL     30143 non-null  float64\n",
      " 1   CNC     30143 non-null  float64\n",
      " 2   GR      30143 non-null  float64\n",
      " 3   HRD     30143 non-null  float64\n",
      " 4   HRM     30143 non-null  float64\n",
      " 5   PE      30143 non-null  float64\n",
      " 6   ZDEN    30143 non-null  float64\n",
      "dtypes: float64(7)\n",
      "memory usage: 1.6 MB\n"
     ]
    }
   ],
   "source": [
    "X_train.info()"
   ]
  },
  {
   "cell_type": "markdown",
   "id": "f9270da2",
   "metadata": {
    "papermill": {
     "duration": 0.007042,
     "end_time": "2023-01-17T11:50:02.883456",
     "exception": false,
     "start_time": "2023-01-17T11:50:02.876414",
     "status": "completed"
    },
    "tags": []
   },
   "source": [
    "check for null values"
   ]
  },
  {
   "cell_type": "code",
   "execution_count": 7,
   "id": "bb39ac64",
   "metadata": {
    "execution": {
     "iopub.execute_input": "2023-01-17T11:50:02.899962Z",
     "iopub.status.busy": "2023-01-17T11:50:02.899156Z",
     "iopub.status.idle": "2023-01-17T11:50:02.908280Z",
     "shell.execute_reply": "2023-01-17T11:50:02.907257Z"
    },
    "papermill": {
     "duration": 0.019811,
     "end_time": "2023-01-17T11:50:02.910517",
     "exception": false,
     "start_time": "2023-01-17T11:50:02.890706",
     "status": "completed"
    },
    "tags": []
   },
   "outputs": [
    {
     "data": {
      "text/plain": [
       "CAL     0\n",
       "CNC     0\n",
       "GR      0\n",
       "HRD     0\n",
       "HRM     0\n",
       "PE      0\n",
       "ZDEN    0\n",
       "dtype: int64"
      ]
     },
     "execution_count": 7,
     "metadata": {},
     "output_type": "execute_result"
    }
   ],
   "source": [
    "X_train.isnull().sum()"
   ]
  },
  {
   "cell_type": "code",
   "execution_count": 8,
   "id": "5bb8fa6e",
   "metadata": {
    "execution": {
     "iopub.execute_input": "2023-01-17T11:50:02.927301Z",
     "iopub.status.busy": "2023-01-17T11:50:02.926923Z",
     "iopub.status.idle": "2023-01-17T11:50:05.488505Z",
     "shell.execute_reply": "2023-01-17T11:50:05.487582Z"
    },
    "papermill": {
     "duration": 2.572693,
     "end_time": "2023-01-17T11:50:05.490774",
     "exception": false,
     "start_time": "2023-01-17T11:50:02.918081",
     "status": "completed"
    },
    "tags": []
   },
   "outputs": [
    {
     "data": {
      "text/plain": [
       "CAL     1.062693\n",
       "CNC     1.177467\n",
       "GR      0.689080\n",
       "HRD     0.886624\n",
       "HRM     0.814214\n",
       "PE      0.491486\n",
       "ZDEN    0.731185\n",
       "Name: MI Scores, dtype: float64"
      ]
     },
     "execution_count": 8,
     "metadata": {},
     "output_type": "execute_result"
    }
   ],
   "source": [
    "from sklearn.feature_selection import mutual_info_regression\n",
    "mi=mutual_info_regression(X_train,y1_train)\n",
    "mi_scores=pd.Series(mi,name=\"MI Scores\",index=X_train.columns)\n",
    "mi_scores"
   ]
  },
  {
   "cell_type": "markdown",
   "id": "eff6b2d8",
   "metadata": {
    "papermill": {
     "duration": 0.007264,
     "end_time": "2023-01-17T11:50:05.505842",
     "exception": false,
     "start_time": "2023-01-17T11:50:05.498578",
     "status": "completed"
    },
    "tags": []
   },
   "source": [
    "using mutual information to rank the features according to target importance"
   ]
  },
  {
   "cell_type": "code",
   "execution_count": 9,
   "id": "56d78df8",
   "metadata": {
    "execution": {
     "iopub.execute_input": "2023-01-17T11:50:05.523025Z",
     "iopub.status.busy": "2023-01-17T11:50:05.522220Z",
     "iopub.status.idle": "2023-01-17T11:50:05.527264Z",
     "shell.execute_reply": "2023-01-17T11:50:05.526484Z"
    },
    "papermill": {
     "duration": 0.016261,
     "end_time": "2023-01-17T11:50:05.529615",
     "exception": false,
     "start_time": "2023-01-17T11:50:05.513354",
     "status": "completed"
    },
    "tags": []
   },
   "outputs": [],
   "source": [
    "features=mi_scores[mi_scores>0.7].index.tolist()"
   ]
  },
  {
   "cell_type": "code",
   "execution_count": 10,
   "id": "1b6e881b",
   "metadata": {
    "execution": {
     "iopub.execute_input": "2023-01-17T11:50:05.547368Z",
     "iopub.status.busy": "2023-01-17T11:50:05.546594Z",
     "iopub.status.idle": "2023-01-17T11:50:05.552091Z",
     "shell.execute_reply": "2023-01-17T11:50:05.551099Z"
    },
    "papermill": {
     "duration": 0.017829,
     "end_time": "2023-01-17T11:50:05.555322",
     "exception": false,
     "start_time": "2023-01-17T11:50:05.537493",
     "status": "completed"
    },
    "tags": []
   },
   "outputs": [
    {
     "name": "stdout",
     "output_type": "stream",
     "text": [
      "['CAL', 'CNC', 'HRD', 'HRM', 'ZDEN']\n"
     ]
    }
   ],
   "source": [
    "print(features)"
   ]
  },
  {
   "cell_type": "code",
   "execution_count": 11,
   "id": "4270f939",
   "metadata": {
    "execution": {
     "iopub.execute_input": "2023-01-17T11:50:05.573703Z",
     "iopub.status.busy": "2023-01-17T11:50:05.572989Z",
     "iopub.status.idle": "2023-01-17T11:50:05.579896Z",
     "shell.execute_reply": "2023-01-17T11:50:05.578902Z"
    },
    "papermill": {
     "duration": 0.018666,
     "end_time": "2023-01-17T11:50:05.582314",
     "exception": false,
     "start_time": "2023-01-17T11:50:05.563648",
     "status": "completed"
    },
    "tags": []
   },
   "outputs": [
    {
     "data": {
      "text/plain": [
       "(30143, 7)"
      ]
     },
     "execution_count": 11,
     "metadata": {},
     "output_type": "execute_result"
    }
   ],
   "source": [
    "X_train.shape"
   ]
  },
  {
   "cell_type": "code",
   "execution_count": 12,
   "id": "592cca90",
   "metadata": {
    "execution": {
     "iopub.execute_input": "2023-01-17T11:50:05.600808Z",
     "iopub.status.busy": "2023-01-17T11:50:05.600351Z",
     "iopub.status.idle": "2023-01-17T11:50:05.607144Z",
     "shell.execute_reply": "2023-01-17T11:50:05.605988Z"
    },
    "papermill": {
     "duration": 0.018785,
     "end_time": "2023-01-17T11:50:05.609515",
     "exception": false,
     "start_time": "2023-01-17T11:50:05.590730",
     "status": "completed"
    },
    "tags": []
   },
   "outputs": [
    {
     "data": {
      "text/plain": [
       "(30143,)"
      ]
     },
     "execution_count": 12,
     "metadata": {},
     "output_type": "execute_result"
    }
   ],
   "source": [
    "y1_train.shape"
   ]
  },
  {
   "cell_type": "markdown",
   "id": "250b5f7d",
   "metadata": {
    "papermill": {
     "duration": 0.007465,
     "end_time": "2023-01-17T11:50:05.624718",
     "exception": false,
     "start_time": "2023-01-17T11:50:05.617253",
     "status": "completed"
    },
    "tags": []
   },
   "source": [
    "splitting of datasets"
   ]
  },
  {
   "cell_type": "code",
   "execution_count": 13,
   "id": "196ff0ae",
   "metadata": {
    "execution": {
     "iopub.execute_input": "2023-01-17T11:50:05.641822Z",
     "iopub.status.busy": "2023-01-17T11:50:05.641402Z",
     "iopub.status.idle": "2023-01-17T11:50:05.656940Z",
     "shell.execute_reply": "2023-01-17T11:50:05.655781Z"
    },
    "papermill": {
     "duration": 0.027479,
     "end_time": "2023-01-17T11:50:05.659794",
     "exception": false,
     "start_time": "2023-01-17T11:50:05.632315",
     "status": "completed"
    },
    "tags": []
   },
   "outputs": [],
   "source": [
    "from sklearn.model_selection import train_test_split\n",
    "X1_Train,X1_test,y1_Train,y1_test=train_test_split(X_train,y1_train,test_size=0.2)\n",
    "X2_Train,X2_test,y2_Train,y2_test=train_test_split(X_train,y2_train,test_size=0.2)"
   ]
  },
  {
   "cell_type": "code",
   "execution_count": 14,
   "id": "0b4025fb",
   "metadata": {
    "execution": {
     "iopub.execute_input": "2023-01-17T11:50:05.677724Z",
     "iopub.status.busy": "2023-01-17T11:50:05.677242Z",
     "iopub.status.idle": "2023-01-17T11:50:05.683684Z",
     "shell.execute_reply": "2023-01-17T11:50:05.682649Z"
    },
    "papermill": {
     "duration": 0.018202,
     "end_time": "2023-01-17T11:50:05.686012",
     "exception": false,
     "start_time": "2023-01-17T11:50:05.667810",
     "status": "completed"
    },
    "tags": []
   },
   "outputs": [
    {
     "data": {
      "text/plain": [
       "(24114, 7)"
      ]
     },
     "execution_count": 14,
     "metadata": {},
     "output_type": "execute_result"
    }
   ],
   "source": [
    "X1_Train.shape"
   ]
  },
  {
   "cell_type": "code",
   "execution_count": 15,
   "id": "74cfcade",
   "metadata": {
    "execution": {
     "iopub.execute_input": "2023-01-17T11:50:05.703971Z",
     "iopub.status.busy": "2023-01-17T11:50:05.703528Z",
     "iopub.status.idle": "2023-01-17T11:50:05.710516Z",
     "shell.execute_reply": "2023-01-17T11:50:05.709331Z"
    },
    "papermill": {
     "duration": 0.018869,
     "end_time": "2023-01-17T11:50:05.712953",
     "exception": false,
     "start_time": "2023-01-17T11:50:05.694084",
     "status": "completed"
    },
    "tags": []
   },
   "outputs": [
    {
     "data": {
      "text/plain": [
       "(24114,)"
      ]
     },
     "execution_count": 15,
     "metadata": {},
     "output_type": "execute_result"
    }
   ],
   "source": [
    "y1_Train.shape"
   ]
  },
  {
   "cell_type": "markdown",
   "id": "f9d2313f",
   "metadata": {
    "papermill": {
     "duration": 0.00786,
     "end_time": "2023-01-17T11:50:05.728840",
     "exception": false,
     "start_time": "2023-01-17T11:50:05.720980",
     "status": "completed"
    },
    "tags": []
   },
   "source": [
    "fitting and predicting the first target variable"
   ]
  },
  {
   "cell_type": "code",
   "execution_count": 16,
   "id": "8b8d442f",
   "metadata": {
    "execution": {
     "iopub.execute_input": "2023-01-17T11:50:05.747104Z",
     "iopub.status.busy": "2023-01-17T11:50:05.746382Z",
     "iopub.status.idle": "2023-01-17T11:50:22.863798Z",
     "shell.execute_reply": "2023-01-17T11:50:22.862685Z"
    },
    "papermill": {
     "duration": 17.129755,
     "end_time": "2023-01-17T11:50:22.866673",
     "exception": false,
     "start_time": "2023-01-17T11:50:05.736918",
     "status": "completed"
    },
    "tags": []
   },
   "outputs": [],
   "source": [
    "from sklearn.ensemble import RandomForestRegressor\n",
    "model1=RandomForestRegressor()\n",
    "model1.fit(X1_Train,y1_Train)\n",
    "pred1=model1.predict(X1_test)"
   ]
  },
  {
   "cell_type": "markdown",
   "id": "ed7230f6",
   "metadata": {
    "papermill": {
     "duration": 0.008084,
     "end_time": "2023-01-17T11:50:22.883025",
     "exception": false,
     "start_time": "2023-01-17T11:50:22.874941",
     "status": "completed"
    },
    "tags": []
   },
   "source": [
    "fitting and predicting the second target variable"
   ]
  },
  {
   "cell_type": "code",
   "execution_count": 17,
   "id": "0720a7c8",
   "metadata": {
    "execution": {
     "iopub.execute_input": "2023-01-17T11:50:22.901351Z",
     "iopub.status.busy": "2023-01-17T11:50:22.900607Z",
     "iopub.status.idle": "2023-01-17T11:50:41.374631Z",
     "shell.execute_reply": "2023-01-17T11:50:41.373453Z"
    },
    "papermill": {
     "duration": 18.486124,
     "end_time": "2023-01-17T11:50:41.377321",
     "exception": false,
     "start_time": "2023-01-17T11:50:22.891197",
     "status": "completed"
    },
    "tags": []
   },
   "outputs": [],
   "source": [
    "model2=RandomForestRegressor()\n",
    "model2.fit(X2_Train,y2_Train)\n",
    "pred2=model2.predict(X2_test)"
   ]
  },
  {
   "cell_type": "code",
   "execution_count": 18,
   "id": "1b3b47f4",
   "metadata": {
    "execution": {
     "iopub.execute_input": "2023-01-17T11:50:41.395527Z",
     "iopub.status.busy": "2023-01-17T11:50:41.395083Z",
     "iopub.status.idle": "2023-01-17T11:50:41.402209Z",
     "shell.execute_reply": "2023-01-17T11:50:41.401109Z"
    },
    "papermill": {
     "duration": 0.019197,
     "end_time": "2023-01-17T11:50:41.404771",
     "exception": false,
     "start_time": "2023-01-17T11:50:41.385574",
     "status": "completed"
    },
    "tags": []
   },
   "outputs": [],
   "source": [
    "from sklearn.metrics import mean_squared_error\n",
    "rmse1= np.sqrt(mean_squared_error(y1_test,pred1))\n",
    "rmse2= np.sqrt(mean_squared_error(y2_test,pred2))"
   ]
  },
  {
   "cell_type": "code",
   "execution_count": 19,
   "id": "781f33cf",
   "metadata": {
    "execution": {
     "iopub.execute_input": "2023-01-17T11:50:41.423365Z",
     "iopub.status.busy": "2023-01-17T11:50:41.422966Z",
     "iopub.status.idle": "2023-01-17T11:50:41.428647Z",
     "shell.execute_reply": "2023-01-17T11:50:41.427390Z"
    },
    "papermill": {
     "duration": 0.018131,
     "end_time": "2023-01-17T11:50:41.431673",
     "exception": false,
     "start_time": "2023-01-17T11:50:41.413542",
     "status": "completed"
    },
    "tags": []
   },
   "outputs": [
    {
     "name": "stdout",
     "output_type": "stream",
     "text": [
      "55.473002696223105\n"
     ]
    }
   ],
   "source": [
    "print(rmse1)"
   ]
  },
  {
   "cell_type": "code",
   "execution_count": 20,
   "id": "bcf3ef69",
   "metadata": {
    "execution": {
     "iopub.execute_input": "2023-01-17T11:50:41.450781Z",
     "iopub.status.busy": "2023-01-17T11:50:41.450283Z",
     "iopub.status.idle": "2023-01-17T11:50:41.456271Z",
     "shell.execute_reply": "2023-01-17T11:50:41.454981Z"
    },
    "papermill": {
     "duration": 0.018567,
     "end_time": "2023-01-17T11:50:41.458797",
     "exception": false,
     "start_time": "2023-01-17T11:50:41.440230",
     "status": "completed"
    },
    "tags": []
   },
   "outputs": [
    {
     "name": "stdout",
     "output_type": "stream",
     "text": [
      "141.92197513073995\n"
     ]
    }
   ],
   "source": [
    "print(rmse2)"
   ]
  },
  {
   "cell_type": "code",
   "execution_count": null,
   "id": "60084284",
   "metadata": {
    "papermill": {
     "duration": 0.008433,
     "end_time": "2023-01-17T11:50:41.475540",
     "exception": false,
     "start_time": "2023-01-17T11:50:41.467107",
     "status": "completed"
    },
    "tags": []
   },
   "outputs": [],
   "source": []
  }
 ],
 "metadata": {
  "kernelspec": {
   "display_name": "Python 3",
   "language": "python",
   "name": "python3"
  },
  "language_info": {
   "codemirror_mode": {
    "name": "ipython",
    "version": 3
   },
   "file_extension": ".py",
   "mimetype": "text/x-python",
   "name": "python",
   "nbconvert_exporter": "python",
   "pygments_lexer": "ipython3",
   "version": "3.7.12"
  },
  "papermill": {
   "default_parameters": {},
   "duration": 48.541985,
   "end_time": "2023-01-17T11:50:42.205073",
   "environment_variables": {},
   "exception": null,
   "input_path": "__notebook__.ipynb",
   "output_path": "__notebook__.ipynb",
   "parameters": {},
   "start_time": "2023-01-17T11:49:53.663088",
   "version": "2.3.4"
  }
 },
 "nbformat": 4,
 "nbformat_minor": 5
}

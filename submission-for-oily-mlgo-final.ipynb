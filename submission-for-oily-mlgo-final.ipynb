{
 "cells": [
  {
   "cell_type": "code",
   "execution_count": 1,
   "id": "b40b772b",
   "metadata": {
    "_cell_guid": "b1076dfc-b9ad-4769-8c92-a6c4dae69d19",
    "_uuid": "8f2839f25d086af736a60e9eeb907d3b93b6e0e5",
    "execution": {
     "iopub.execute_input": "2023-01-20T19:44:33.255143Z",
     "iopub.status.busy": "2023-01-20T19:44:33.254546Z",
     "iopub.status.idle": "2023-01-20T19:44:33.293042Z",
     "shell.execute_reply": "2023-01-20T19:44:33.291159Z"
    },
    "papermill": {
     "duration": 0.055692,
     "end_time": "2023-01-20T19:44:33.296565",
     "exception": false,
     "start_time": "2023-01-20T19:44:33.240873",
     "status": "completed"
    },
    "tags": []
   },
   "outputs": [
    {
     "name": "stdout",
     "output_type": "stream",
     "text": [
      "/kaggle/input/oily-mlgo-hackathon-data/sample_submission.csv\n",
      "/kaggle/input/oily-mlgo-hackathon-data/train.csv\n",
      "/kaggle/input/oily-mlgo-hackathon-data/test.csv\n"
     ]
    }
   ],
   "source": [
    "# This Python 3 environment comes with many helpful analytics libraries installed\n",
    "# It is defined by the kaggle/python Docker image: https://github.com/kaggle/docker-python\n",
    "# For example, here's several helpful packages to load\n",
    "\n",
    "import numpy as np # linear algebra\n",
    "import pandas as pd # data processing, CSV file I/O (e.g. pd.read_csv)\n",
    "\n",
    "# Input data files are available in the read-only \"../input/\" directory\n",
    "# For example, running this (by clicking run or pressing Shift+Enter) will list all files under the input directory\n",
    "\n",
    "import os\n",
    "for dirname, _, filenames in os.walk('/kaggle/input'):\n",
    "    for filename in filenames:\n",
    "        print(os.path.join(dirname, filename))\n",
    "\n",
    "# You can write up to 20GB to the current directory (/kaggle/working/) that gets preserved as output when you create a version using \"Save & Run All\" \n",
    "# You can also write temporary files to /kaggle/temp/, but they won't be saved outside of the current session"
   ]
  },
  {
   "cell_type": "markdown",
   "id": "eabb4590",
   "metadata": {
    "papermill": {
     "duration": 0.009934,
     "end_time": "2023-01-20T19:44:33.317331",
     "exception": false,
     "start_time": "2023-01-20T19:44:33.307397",
     "status": "completed"
    },
    "tags": []
   },
   "source": [
    "Problem Statement of hackathon: Compressional travel-time (DTC) and shear travel-time (DTS) logs are not acquired in all the wells drilled in a field due to operational constraints. Under such circumstances, machine learning techniques can be used to predict DTC and DTS logs to improve subsurface characterization. The goal is to develop data-driven models by processing  conventional logs from a Well  and use the data-driven models to generate synthetic compressional and shear travel-time logs (DTC and DTS, respectively) in another Well. A robust data-driven model for the desired sonic-log synthesis will result in low prediction errors, which can be quantified in terms of Root Mean Squared Error(RMSE) by comparing the synthesized and the original DTC and DTS logs.\n"
   ]
  },
  {
   "cell_type": "markdown",
   "id": "abcad484",
   "metadata": {
    "papermill": {
     "duration": 0.011592,
     "end_time": "2023-01-20T19:44:33.339596",
     "exception": false,
     "start_time": "2023-01-20T19:44:33.328004",
     "status": "completed"
    },
    "tags": []
   },
   "source": [
    "importing the train data"
   ]
  },
  {
   "cell_type": "code",
   "execution_count": 2,
   "id": "ab078780",
   "metadata": {
    "execution": {
     "iopub.execute_input": "2023-01-20T19:44:33.363256Z",
     "iopub.status.busy": "2023-01-20T19:44:33.362439Z",
     "iopub.status.idle": "2023-01-20T19:44:33.490301Z",
     "shell.execute_reply": "2023-01-20T19:44:33.489148Z"
    },
    "papermill": {
     "duration": 0.142863,
     "end_time": "2023-01-20T19:44:33.493019",
     "exception": false,
     "start_time": "2023-01-20T19:44:33.350156",
     "status": "completed"
    },
    "tags": []
   },
   "outputs": [
    {
     "data": {
      "text/html": [
       "<div>\n",
       "<style scoped>\n",
       "    .dataframe tbody tr th:only-of-type {\n",
       "        vertical-align: middle;\n",
       "    }\n",
       "\n",
       "    .dataframe tbody tr th {\n",
       "        vertical-align: top;\n",
       "    }\n",
       "\n",
       "    .dataframe thead th {\n",
       "        text-align: right;\n",
       "    }\n",
       "</style>\n",
       "<table border=\"1\" class=\"dataframe\">\n",
       "  <thead>\n",
       "    <tr style=\"text-align: right;\">\n",
       "      <th></th>\n",
       "      <th>CAL</th>\n",
       "      <th>CNC</th>\n",
       "      <th>GR</th>\n",
       "      <th>HRD</th>\n",
       "      <th>HRM</th>\n",
       "      <th>PE</th>\n",
       "      <th>ZDEN</th>\n",
       "      <th>DTC</th>\n",
       "      <th>DTS</th>\n",
       "    </tr>\n",
       "  </thead>\n",
       "  <tbody>\n",
       "    <tr>\n",
       "      <th>0</th>\n",
       "      <td>-999.0</td>\n",
       "      <td>-999.0</td>\n",
       "      <td>41.4699</td>\n",
       "      <td>-999.0</td>\n",
       "      <td>-999.0</td>\n",
       "      <td>-999.0</td>\n",
       "      <td>-999.0</td>\n",
       "      <td>128.0737</td>\n",
       "      <td>319.0654</td>\n",
       "    </tr>\n",
       "    <tr>\n",
       "      <th>1</th>\n",
       "      <td>-999.0</td>\n",
       "      <td>-999.0</td>\n",
       "      <td>42.5053</td>\n",
       "      <td>-999.0</td>\n",
       "      <td>-999.0</td>\n",
       "      <td>-999.0</td>\n",
       "      <td>-999.0</td>\n",
       "      <td>127.8347</td>\n",
       "      <td>318.7825</td>\n",
       "    </tr>\n",
       "    <tr>\n",
       "      <th>2</th>\n",
       "      <td>-999.0</td>\n",
       "      <td>-999.0</td>\n",
       "      <td>43.1548</td>\n",
       "      <td>-999.0</td>\n",
       "      <td>-999.0</td>\n",
       "      <td>-999.0</td>\n",
       "      <td>-999.0</td>\n",
       "      <td>127.2307</td>\n",
       "      <td>317.3323</td>\n",
       "    </tr>\n",
       "    <tr>\n",
       "      <th>3</th>\n",
       "      <td>-999.0</td>\n",
       "      <td>-999.0</td>\n",
       "      <td>43.2410</td>\n",
       "      <td>-999.0</td>\n",
       "      <td>-999.0</td>\n",
       "      <td>-999.0</td>\n",
       "      <td>-999.0</td>\n",
       "      <td>126.2917</td>\n",
       "      <td>313.6486</td>\n",
       "    </tr>\n",
       "    <tr>\n",
       "      <th>4</th>\n",
       "      <td>-999.0</td>\n",
       "      <td>-999.0</td>\n",
       "      <td>40.3218</td>\n",
       "      <td>-999.0</td>\n",
       "      <td>-999.0</td>\n",
       "      <td>-999.0</td>\n",
       "      <td>-999.0</td>\n",
       "      <td>125.3985</td>\n",
       "      <td>307.8903</td>\n",
       "    </tr>\n",
       "  </tbody>\n",
       "</table>\n",
       "</div>"
      ],
      "text/plain": [
       "     CAL    CNC       GR    HRD    HRM     PE   ZDEN       DTC       DTS\n",
       "0 -999.0 -999.0  41.4699 -999.0 -999.0 -999.0 -999.0  128.0737  319.0654\n",
       "1 -999.0 -999.0  42.5053 -999.0 -999.0 -999.0 -999.0  127.8347  318.7825\n",
       "2 -999.0 -999.0  43.1548 -999.0 -999.0 -999.0 -999.0  127.2307  317.3323\n",
       "3 -999.0 -999.0  43.2410 -999.0 -999.0 -999.0 -999.0  126.2917  313.6486\n",
       "4 -999.0 -999.0  40.3218 -999.0 -999.0 -999.0 -999.0  125.3985  307.8903"
      ]
     },
     "execution_count": 2,
     "metadata": {},
     "output_type": "execute_result"
    }
   ],
   "source": [
    "train_data=pd.read_csv('/kaggle/input/oily-mlgo-hackathon-data/train.csv')\n",
    "train_data.head()"
   ]
  },
  {
   "cell_type": "markdown",
   "id": "8aea85ff",
   "metadata": {
    "papermill": {
     "duration": 0.00992,
     "end_time": "2023-01-20T19:44:33.513798",
     "exception": false,
     "start_time": "2023-01-20T19:44:33.503878",
     "status": "completed"
    },
    "tags": []
   },
   "source": [
    "importing test data"
   ]
  },
  {
   "cell_type": "code",
   "execution_count": 3,
   "id": "b8402af1",
   "metadata": {
    "execution": {
     "iopub.execute_input": "2023-01-20T19:44:33.536566Z",
     "iopub.status.busy": "2023-01-20T19:44:33.536104Z",
     "iopub.status.idle": "2023-01-20T19:44:33.578470Z",
     "shell.execute_reply": "2023-01-20T19:44:33.577332Z"
    },
    "papermill": {
     "duration": 0.057122,
     "end_time": "2023-01-20T19:44:33.581228",
     "exception": false,
     "start_time": "2023-01-20T19:44:33.524106",
     "status": "completed"
    },
    "tags": []
   },
   "outputs": [
    {
     "data": {
      "text/html": [
       "<div>\n",
       "<style scoped>\n",
       "    .dataframe tbody tr th:only-of-type {\n",
       "        vertical-align: middle;\n",
       "    }\n",
       "\n",
       "    .dataframe tbody tr th {\n",
       "        vertical-align: top;\n",
       "    }\n",
       "\n",
       "    .dataframe thead th {\n",
       "        text-align: right;\n",
       "    }\n",
       "</style>\n",
       "<table border=\"1\" class=\"dataframe\">\n",
       "  <thead>\n",
       "    <tr style=\"text-align: right;\">\n",
       "      <th></th>\n",
       "      <th>CAL</th>\n",
       "      <th>CNC</th>\n",
       "      <th>GR</th>\n",
       "      <th>HRD</th>\n",
       "      <th>HRM</th>\n",
       "      <th>PE</th>\n",
       "      <th>ZDEN</th>\n",
       "    </tr>\n",
       "  </thead>\n",
       "  <tbody>\n",
       "    <tr>\n",
       "      <th>0</th>\n",
       "      <td>8.5781</td>\n",
       "      <td>0.3521</td>\n",
       "      <td>55.1824</td>\n",
       "      <td>0.8121</td>\n",
       "      <td>0.7810</td>\n",
       "      <td>6.8291</td>\n",
       "      <td>2.3256</td>\n",
       "    </tr>\n",
       "    <tr>\n",
       "      <th>1</th>\n",
       "      <td>8.5781</td>\n",
       "      <td>0.3639</td>\n",
       "      <td>57.0114</td>\n",
       "      <td>0.8038</td>\n",
       "      <td>0.7723</td>\n",
       "      <td>6.8100</td>\n",
       "      <td>2.3255</td>\n",
       "    </tr>\n",
       "    <tr>\n",
       "      <th>2</th>\n",
       "      <td>8.5781</td>\n",
       "      <td>0.3703</td>\n",
       "      <td>58.9263</td>\n",
       "      <td>0.7444</td>\n",
       "      <td>0.7048</td>\n",
       "      <td>6.7766</td>\n",
       "      <td>2.3212</td>\n",
       "    </tr>\n",
       "    <tr>\n",
       "      <th>3</th>\n",
       "      <td>8.5625</td>\n",
       "      <td>0.3667</td>\n",
       "      <td>57.3308</td>\n",
       "      <td>0.7169</td>\n",
       "      <td>0.6542</td>\n",
       "      <td>6.7219</td>\n",
       "      <td>2.3119</td>\n",
       "    </tr>\n",
       "    <tr>\n",
       "      <th>4</th>\n",
       "      <td>8.5781</td>\n",
       "      <td>0.3500</td>\n",
       "      <td>53.0624</td>\n",
       "      <td>0.6845</td>\n",
       "      <td>0.6109</td>\n",
       "      <td>6.6384</td>\n",
       "      <td>2.2982</td>\n",
       "    </tr>\n",
       "  </tbody>\n",
       "</table>\n",
       "</div>"
      ],
      "text/plain": [
       "      CAL     CNC       GR     HRD     HRM      PE    ZDEN\n",
       "0  8.5781  0.3521  55.1824  0.8121  0.7810  6.8291  2.3256\n",
       "1  8.5781  0.3639  57.0114  0.8038  0.7723  6.8100  2.3255\n",
       "2  8.5781  0.3703  58.9263  0.7444  0.7048  6.7766  2.3212\n",
       "3  8.5625  0.3667  57.3308  0.7169  0.6542  6.7219  2.3119\n",
       "4  8.5781  0.3500  53.0624  0.6845  0.6109  6.6384  2.2982"
      ]
     },
     "execution_count": 3,
     "metadata": {},
     "output_type": "execute_result"
    }
   ],
   "source": [
    "test_data=pd.read_csv('/kaggle/input/oily-mlgo-hackathon-data/test.csv')\n",
    "test_data.head()"
   ]
  },
  {
   "cell_type": "code",
   "execution_count": 4,
   "id": "19dc7ed0",
   "metadata": {
    "execution": {
     "iopub.execute_input": "2023-01-20T19:44:33.606524Z",
     "iopub.status.busy": "2023-01-20T19:44:33.605500Z",
     "iopub.status.idle": "2023-01-20T19:44:33.622023Z",
     "shell.execute_reply": "2023-01-20T19:44:33.621035Z"
    },
    "papermill": {
     "duration": 0.03188,
     "end_time": "2023-01-20T19:44:33.624478",
     "exception": false,
     "start_time": "2023-01-20T19:44:33.592598",
     "status": "completed"
    },
    "tags": []
   },
   "outputs": [
    {
     "data": {
      "text/html": [
       "<div>\n",
       "<style scoped>\n",
       "    .dataframe tbody tr th:only-of-type {\n",
       "        vertical-align: middle;\n",
       "    }\n",
       "\n",
       "    .dataframe tbody tr th {\n",
       "        vertical-align: top;\n",
       "    }\n",
       "\n",
       "    .dataframe thead th {\n",
       "        text-align: right;\n",
       "    }\n",
       "</style>\n",
       "<table border=\"1\" class=\"dataframe\">\n",
       "  <thead>\n",
       "    <tr style=\"text-align: right;\">\n",
       "      <th></th>\n",
       "      <th>CAL</th>\n",
       "      <th>CNC</th>\n",
       "      <th>GR</th>\n",
       "      <th>HRD</th>\n",
       "      <th>HRM</th>\n",
       "      <th>PE</th>\n",
       "      <th>ZDEN</th>\n",
       "    </tr>\n",
       "  </thead>\n",
       "  <tbody>\n",
       "    <tr>\n",
       "      <th>0</th>\n",
       "      <td>-999.0</td>\n",
       "      <td>-999.0</td>\n",
       "      <td>41.4699</td>\n",
       "      <td>-999.0</td>\n",
       "      <td>-999.0</td>\n",
       "      <td>-999.0</td>\n",
       "      <td>-999.0</td>\n",
       "    </tr>\n",
       "    <tr>\n",
       "      <th>1</th>\n",
       "      <td>-999.0</td>\n",
       "      <td>-999.0</td>\n",
       "      <td>42.5053</td>\n",
       "      <td>-999.0</td>\n",
       "      <td>-999.0</td>\n",
       "      <td>-999.0</td>\n",
       "      <td>-999.0</td>\n",
       "    </tr>\n",
       "    <tr>\n",
       "      <th>2</th>\n",
       "      <td>-999.0</td>\n",
       "      <td>-999.0</td>\n",
       "      <td>43.1548</td>\n",
       "      <td>-999.0</td>\n",
       "      <td>-999.0</td>\n",
       "      <td>-999.0</td>\n",
       "      <td>-999.0</td>\n",
       "    </tr>\n",
       "    <tr>\n",
       "      <th>3</th>\n",
       "      <td>-999.0</td>\n",
       "      <td>-999.0</td>\n",
       "      <td>43.2410</td>\n",
       "      <td>-999.0</td>\n",
       "      <td>-999.0</td>\n",
       "      <td>-999.0</td>\n",
       "      <td>-999.0</td>\n",
       "    </tr>\n",
       "    <tr>\n",
       "      <th>4</th>\n",
       "      <td>-999.0</td>\n",
       "      <td>-999.0</td>\n",
       "      <td>40.3218</td>\n",
       "      <td>-999.0</td>\n",
       "      <td>-999.0</td>\n",
       "      <td>-999.0</td>\n",
       "      <td>-999.0</td>\n",
       "    </tr>\n",
       "  </tbody>\n",
       "</table>\n",
       "</div>"
      ],
      "text/plain": [
       "     CAL    CNC       GR    HRD    HRM     PE   ZDEN\n",
       "0 -999.0 -999.0  41.4699 -999.0 -999.0 -999.0 -999.0\n",
       "1 -999.0 -999.0  42.5053 -999.0 -999.0 -999.0 -999.0\n",
       "2 -999.0 -999.0  43.1548 -999.0 -999.0 -999.0 -999.0\n",
       "3 -999.0 -999.0  43.2410 -999.0 -999.0 -999.0 -999.0\n",
       "4 -999.0 -999.0  40.3218 -999.0 -999.0 -999.0 -999.0"
      ]
     },
     "execution_count": 4,
     "metadata": {},
     "output_type": "execute_result"
    }
   ],
   "source": [
    "X_train=train_data.iloc[:,0:7]\n",
    "X_train.head()"
   ]
  },
  {
   "cell_type": "code",
   "execution_count": 5,
   "id": "70efb205",
   "metadata": {
    "execution": {
     "iopub.execute_input": "2023-01-20T19:44:33.647908Z",
     "iopub.status.busy": "2023-01-20T19:44:33.647217Z",
     "iopub.status.idle": "2023-01-20T19:44:33.659647Z",
     "shell.execute_reply": "2023-01-20T19:44:33.658717Z"
    },
    "papermill": {
     "duration": 0.026798,
     "end_time": "2023-01-20T19:44:33.661838",
     "exception": false,
     "start_time": "2023-01-20T19:44:33.635040",
     "status": "completed"
    },
    "tags": []
   },
   "outputs": [
    {
     "data": {
      "text/plain": [
       "0    128.0737\n",
       "1    127.8347\n",
       "2    127.2307\n",
       "3    126.2917\n",
       "4    125.3985\n",
       "Name: DTC, dtype: float64"
      ]
     },
     "execution_count": 5,
     "metadata": {},
     "output_type": "execute_result"
    }
   ],
   "source": [
    "y1_train=train_data['DTC']\n",
    "y2_train=train_data['DTS']\n",
    "y1_train.head()"
   ]
  },
  {
   "cell_type": "code",
   "execution_count": 6,
   "id": "73348f5e",
   "metadata": {
    "execution": {
     "iopub.execute_input": "2023-01-20T19:44:33.686088Z",
     "iopub.status.busy": "2023-01-20T19:44:33.685378Z",
     "iopub.status.idle": "2023-01-20T19:44:33.693566Z",
     "shell.execute_reply": "2023-01-20T19:44:33.692459Z"
    },
    "papermill": {
     "duration": 0.023448,
     "end_time": "2023-01-20T19:44:33.696091",
     "exception": false,
     "start_time": "2023-01-20T19:44:33.672643",
     "status": "completed"
    },
    "tags": []
   },
   "outputs": [
    {
     "data": {
      "text/plain": [
       "0    319.0654\n",
       "1    318.7825\n",
       "2    317.3323\n",
       "3    313.6486\n",
       "4    307.8903\n",
       "Name: DTS, dtype: float64"
      ]
     },
     "execution_count": 6,
     "metadata": {},
     "output_type": "execute_result"
    }
   ],
   "source": [
    "y2_train.head()"
   ]
  },
  {
   "cell_type": "code",
   "execution_count": 7,
   "id": "e24172bc",
   "metadata": {
    "execution": {
     "iopub.execute_input": "2023-01-20T19:44:33.719799Z",
     "iopub.status.busy": "2023-01-20T19:44:33.719373Z",
     "iopub.status.idle": "2023-01-20T19:44:33.743019Z",
     "shell.execute_reply": "2023-01-20T19:44:33.741692Z"
    },
    "papermill": {
     "duration": 0.038532,
     "end_time": "2023-01-20T19:44:33.745661",
     "exception": false,
     "start_time": "2023-01-20T19:44:33.707129",
     "status": "completed"
    },
    "tags": []
   },
   "outputs": [
    {
     "name": "stdout",
     "output_type": "stream",
     "text": [
      "<class 'pandas.core.frame.DataFrame'>\n",
      "RangeIndex: 30143 entries, 0 to 30142\n",
      "Data columns (total 7 columns):\n",
      " #   Column  Non-Null Count  Dtype  \n",
      "---  ------  --------------  -----  \n",
      " 0   CAL     30143 non-null  float64\n",
      " 1   CNC     30143 non-null  float64\n",
      " 2   GR      30143 non-null  float64\n",
      " 3   HRD     30143 non-null  float64\n",
      " 4   HRM     30143 non-null  float64\n",
      " 5   PE      30143 non-null  float64\n",
      " 6   ZDEN    30143 non-null  float64\n",
      "dtypes: float64(7)\n",
      "memory usage: 1.6 MB\n"
     ]
    }
   ],
   "source": [
    "X_train.info()"
   ]
  },
  {
   "cell_type": "markdown",
   "id": "6c549f02",
   "metadata": {
    "papermill": {
     "duration": 0.01097,
     "end_time": "2023-01-20T19:44:33.767707",
     "exception": false,
     "start_time": "2023-01-20T19:44:33.756737",
     "status": "completed"
    },
    "tags": []
   },
   "source": [
    "check for null values to prevent any errors in the future modelling of the code"
   ]
  },
  {
   "cell_type": "code",
   "execution_count": 8,
   "id": "fa39be7b",
   "metadata": {
    "execution": {
     "iopub.execute_input": "2023-01-20T19:44:33.793208Z",
     "iopub.status.busy": "2023-01-20T19:44:33.792288Z",
     "iopub.status.idle": "2023-01-20T19:44:33.803191Z",
     "shell.execute_reply": "2023-01-20T19:44:33.801734Z"
    },
    "papermill": {
     "duration": 0.026155,
     "end_time": "2023-01-20T19:44:33.805991",
     "exception": false,
     "start_time": "2023-01-20T19:44:33.779836",
     "status": "completed"
    },
    "tags": []
   },
   "outputs": [
    {
     "data": {
      "text/plain": [
       "CAL     0\n",
       "CNC     0\n",
       "GR      0\n",
       "HRD     0\n",
       "HRM     0\n",
       "PE      0\n",
       "ZDEN    0\n",
       "dtype: int64"
      ]
     },
     "execution_count": 8,
     "metadata": {},
     "output_type": "execute_result"
    }
   ],
   "source": [
    "X_train.isnull().sum()"
   ]
  },
  {
   "cell_type": "markdown",
   "id": "a024f4ea",
   "metadata": {
    "papermill": {
     "duration": 0.01077,
     "end_time": "2023-01-20T19:44:33.827940",
     "exception": false,
     "start_time": "2023-01-20T19:44:33.817170",
     "status": "completed"
    },
    "tags": []
   },
   "source": [
    "**MUTUAL INFORMATION:**\n",
    "\n",
    "In feature engineering, mutual information (MI) is used as a measure of the relationship between a feature and the target variable. Mutual information is a non-negative value that measures the degree of association between two variables. It can be used to identify features that are highly correlated with the target variable.\n",
    "\n",
    "One way to calculate mutual information is by using the concept of entropy, which is a measure of the impurity or randomness of a variable. The mutual information between two variables is calculated by comparing the joint entropy of the two variables to the entropy of each variable individually. A higher mutual information value indicates a stronger association between the two variables.\n",
    "\n",
    "In practice, mutual information is used to select the most informative features for a machine learning model. The features with the highest mutual information values are typically considered the most important for predicting the target variable."
   ]
  },
  {
   "cell_type": "markdown",
   "id": "e80ceab7",
   "metadata": {
    "papermill": {
     "duration": 0.011344,
     "end_time": "2023-01-20T19:44:33.850742",
     "exception": false,
     "start_time": "2023-01-20T19:44:33.839398",
     "status": "completed"
    },
    "tags": []
   },
   "source": [
    "using mutual information to rank the features for 1st target variable according to target importance"
   ]
  },
  {
   "cell_type": "code",
   "execution_count": 9,
   "id": "4b5442c6",
   "metadata": {
    "execution": {
     "iopub.execute_input": "2023-01-20T19:44:33.875478Z",
     "iopub.status.busy": "2023-01-20T19:44:33.874771Z",
     "iopub.status.idle": "2023-01-20T19:44:36.527809Z",
     "shell.execute_reply": "2023-01-20T19:44:36.526665Z"
    },
    "papermill": {
     "duration": 2.668658,
     "end_time": "2023-01-20T19:44:36.530609",
     "exception": false,
     "start_time": "2023-01-20T19:44:33.861951",
     "status": "completed"
    },
    "tags": []
   },
   "outputs": [
    {
     "data": {
      "text/plain": [
       "CAL     1.063050\n",
       "CNC     1.178901\n",
       "GR      0.688997\n",
       "HRD     0.886866\n",
       "HRM     0.814120\n",
       "PE      0.491797\n",
       "ZDEN    0.729608\n",
       "Name: MI Scores, dtype: float64"
      ]
     },
     "execution_count": 9,
     "metadata": {},
     "output_type": "execute_result"
    }
   ],
   "source": [
    "from sklearn.feature_selection import mutual_info_regression\n",
    "mi1=mutual_info_regression(X_train,y1_train)\n",
    "mi1_scores=pd.Series(mi1,name=\"MI Scores\",index=X_train.columns)\n",
    "mi1_scores"
   ]
  },
  {
   "cell_type": "markdown",
   "id": "91c21849",
   "metadata": {
    "papermill": {
     "duration": 0.010868,
     "end_time": "2023-01-20T19:44:36.552768",
     "exception": false,
     "start_time": "2023-01-20T19:44:36.541900",
     "status": "completed"
    },
    "tags": []
   },
   "source": [
    "using mutual information to rank the features for 2nd target variable according to target importance"
   ]
  },
  {
   "cell_type": "code",
   "execution_count": 10,
   "id": "985bccf0",
   "metadata": {
    "execution": {
     "iopub.execute_input": "2023-01-20T19:44:36.577922Z",
     "iopub.status.busy": "2023-01-20T19:44:36.577474Z",
     "iopub.status.idle": "2023-01-20T19:44:37.968170Z",
     "shell.execute_reply": "2023-01-20T19:44:37.966955Z"
    },
    "papermill": {
     "duration": 1.406386,
     "end_time": "2023-01-20T19:44:37.970809",
     "exception": false,
     "start_time": "2023-01-20T19:44:36.564423",
     "status": "completed"
    },
    "tags": []
   },
   "outputs": [
    {
     "data": {
      "text/plain": [
       "CAL     1.014854\n",
       "CNC     1.017684\n",
       "GR      0.679854\n",
       "HRD     0.807763\n",
       "HRM     0.753592\n",
       "PE      0.491455\n",
       "ZDEN    0.626192\n",
       "Name: MI Scores, dtype: float64"
      ]
     },
     "execution_count": 10,
     "metadata": {},
     "output_type": "execute_result"
    }
   ],
   "source": [
    "from sklearn.feature_selection import mutual_info_regression\n",
    "mi2=mutual_info_regression(X_train,y2_train)\n",
    "mi2_scores=pd.Series(mi2,name=\"MI Scores\",index=X_train.columns)\n",
    "mi2_scores"
   ]
  },
  {
   "cell_type": "code",
   "execution_count": 11,
   "id": "8bd1529c",
   "metadata": {
    "execution": {
     "iopub.execute_input": "2023-01-20T19:44:37.995936Z",
     "iopub.status.busy": "2023-01-20T19:44:37.995475Z",
     "iopub.status.idle": "2023-01-20T19:44:38.003151Z",
     "shell.execute_reply": "2023-01-20T19:44:38.001615Z"
    },
    "papermill": {
     "duration": 0.023464,
     "end_time": "2023-01-20T19:44:38.006068",
     "exception": false,
     "start_time": "2023-01-20T19:44:37.982604",
     "status": "completed"
    },
    "tags": []
   },
   "outputs": [],
   "source": [
    "features1=mi1_scores[mi1_scores>0.7].index.tolist()\n",
    "features2=mi2_scores[mi2_scores>0.7].index.tolist()"
   ]
  },
  {
   "cell_type": "markdown",
   "id": "afab2c27",
   "metadata": {
    "papermill": {
     "duration": 0.011618,
     "end_time": "2023-01-20T19:44:38.029117",
     "exception": false,
     "start_time": "2023-01-20T19:44:38.017499",
     "status": "completed"
    },
    "tags": []
   },
   "source": [
    "set of important features for the 1st target variable"
   ]
  },
  {
   "cell_type": "code",
   "execution_count": 12,
   "id": "cfb824d4",
   "metadata": {
    "execution": {
     "iopub.execute_input": "2023-01-20T19:44:38.053481Z",
     "iopub.status.busy": "2023-01-20T19:44:38.053064Z",
     "iopub.status.idle": "2023-01-20T19:44:38.058814Z",
     "shell.execute_reply": "2023-01-20T19:44:38.057666Z"
    },
    "papermill": {
     "duration": 0.020859,
     "end_time": "2023-01-20T19:44:38.061275",
     "exception": false,
     "start_time": "2023-01-20T19:44:38.040416",
     "status": "completed"
    },
    "tags": []
   },
   "outputs": [
    {
     "name": "stdout",
     "output_type": "stream",
     "text": [
      "['CAL', 'CNC', 'HRD', 'HRM', 'ZDEN']\n"
     ]
    }
   ],
   "source": [
    "print(features1)"
   ]
  },
  {
   "cell_type": "markdown",
   "id": "b01ced00",
   "metadata": {
    "papermill": {
     "duration": 0.011049,
     "end_time": "2023-01-20T19:44:38.083621",
     "exception": false,
     "start_time": "2023-01-20T19:44:38.072572",
     "status": "completed"
    },
    "tags": []
   },
   "source": [
    "set of important features for the 2nd target variable"
   ]
  },
  {
   "cell_type": "code",
   "execution_count": 13,
   "id": "d99d6633",
   "metadata": {
    "execution": {
     "iopub.execute_input": "2023-01-20T19:44:38.108813Z",
     "iopub.status.busy": "2023-01-20T19:44:38.108371Z",
     "iopub.status.idle": "2023-01-20T19:44:38.114225Z",
     "shell.execute_reply": "2023-01-20T19:44:38.112899Z"
    },
    "papermill": {
     "duration": 0.021832,
     "end_time": "2023-01-20T19:44:38.116860",
     "exception": false,
     "start_time": "2023-01-20T19:44:38.095028",
     "status": "completed"
    },
    "tags": []
   },
   "outputs": [
    {
     "name": "stdout",
     "output_type": "stream",
     "text": [
      "['CAL', 'CNC', 'HRD', 'HRM']\n"
     ]
    }
   ],
   "source": [
    "print(features2)"
   ]
  },
  {
   "cell_type": "code",
   "execution_count": 14,
   "id": "3a301ebe",
   "metadata": {
    "execution": {
     "iopub.execute_input": "2023-01-20T19:44:38.141937Z",
     "iopub.status.busy": "2023-01-20T19:44:38.141478Z",
     "iopub.status.idle": "2023-01-20T19:44:38.150292Z",
     "shell.execute_reply": "2023-01-20T19:44:38.148972Z"
    },
    "papermill": {
     "duration": 0.024681,
     "end_time": "2023-01-20T19:44:38.153190",
     "exception": false,
     "start_time": "2023-01-20T19:44:38.128509",
     "status": "completed"
    },
    "tags": []
   },
   "outputs": [
    {
     "data": {
      "text/plain": [
       "(30143, 7)"
      ]
     },
     "execution_count": 14,
     "metadata": {},
     "output_type": "execute_result"
    }
   ],
   "source": [
    "X_train.shape"
   ]
  },
  {
   "cell_type": "code",
   "execution_count": 15,
   "id": "43d78f84",
   "metadata": {
    "execution": {
     "iopub.execute_input": "2023-01-20T19:44:38.179702Z",
     "iopub.status.busy": "2023-01-20T19:44:38.179263Z",
     "iopub.status.idle": "2023-01-20T19:44:38.187142Z",
     "shell.execute_reply": "2023-01-20T19:44:38.185840Z"
    },
    "papermill": {
     "duration": 0.023517,
     "end_time": "2023-01-20T19:44:38.189716",
     "exception": false,
     "start_time": "2023-01-20T19:44:38.166199",
     "status": "completed"
    },
    "tags": []
   },
   "outputs": [
    {
     "data": {
      "text/plain": [
       "(30143,)"
      ]
     },
     "execution_count": 15,
     "metadata": {},
     "output_type": "execute_result"
    }
   ],
   "source": [
    "y1_train.shape"
   ]
  },
  {
   "cell_type": "code",
   "execution_count": 16,
   "id": "9cdee4d6",
   "metadata": {
    "execution": {
     "iopub.execute_input": "2023-01-20T19:44:38.216159Z",
     "iopub.status.busy": "2023-01-20T19:44:38.215736Z",
     "iopub.status.idle": "2023-01-20T19:44:38.224485Z",
     "shell.execute_reply": "2023-01-20T19:44:38.223214Z"
    },
    "papermill": {
     "duration": 0.025261,
     "end_time": "2023-01-20T19:44:38.227372",
     "exception": false,
     "start_time": "2023-01-20T19:44:38.202111",
     "status": "completed"
    },
    "tags": []
   },
   "outputs": [],
   "source": [
    "X_train=X_train[features1]"
   ]
  },
  {
   "cell_type": "markdown",
   "id": "41335433",
   "metadata": {
    "papermill": {
     "duration": 0.012865,
     "end_time": "2023-01-20T19:44:38.253507",
     "exception": false,
     "start_time": "2023-01-20T19:44:38.240642",
     "status": "completed"
    },
    "tags": []
   },
   "source": [
    "creating a test data as per the features we've selected using information gain"
   ]
  },
  {
   "cell_type": "code",
   "execution_count": 17,
   "id": "fab4a1a8",
   "metadata": {
    "execution": {
     "iopub.execute_input": "2023-01-20T19:44:38.282292Z",
     "iopub.status.busy": "2023-01-20T19:44:38.281871Z",
     "iopub.status.idle": "2023-01-20T19:44:38.288591Z",
     "shell.execute_reply": "2023-01-20T19:44:38.287217Z"
    },
    "papermill": {
     "duration": 0.023821,
     "end_time": "2023-01-20T19:44:38.291672",
     "exception": false,
     "start_time": "2023-01-20T19:44:38.267851",
     "status": "completed"
    },
    "tags": []
   },
   "outputs": [],
   "source": [
    "X_test=test_data[features1]"
   ]
  },
  {
   "cell_type": "markdown",
   "id": "77a209b4",
   "metadata": {
    "papermill": {
     "duration": 0.011589,
     "end_time": "2023-01-20T19:44:38.315985",
     "exception": false,
     "start_time": "2023-01-20T19:44:38.304396",
     "status": "completed"
    },
    "tags": []
   },
   "source": [
    "viewing the train and test datasets"
   ]
  },
  {
   "cell_type": "code",
   "execution_count": 18,
   "id": "163ce9c8",
   "metadata": {
    "execution": {
     "iopub.execute_input": "2023-01-20T19:44:38.341423Z",
     "iopub.status.busy": "2023-01-20T19:44:38.340991Z",
     "iopub.status.idle": "2023-01-20T19:44:38.356267Z",
     "shell.execute_reply": "2023-01-20T19:44:38.355300Z"
    },
    "papermill": {
     "duration": 0.030765,
     "end_time": "2023-01-20T19:44:38.358434",
     "exception": false,
     "start_time": "2023-01-20T19:44:38.327669",
     "status": "completed"
    },
    "tags": []
   },
   "outputs": [
    {
     "data": {
      "text/html": [
       "<div>\n",
       "<style scoped>\n",
       "    .dataframe tbody tr th:only-of-type {\n",
       "        vertical-align: middle;\n",
       "    }\n",
       "\n",
       "    .dataframe tbody tr th {\n",
       "        vertical-align: top;\n",
       "    }\n",
       "\n",
       "    .dataframe thead th {\n",
       "        text-align: right;\n",
       "    }\n",
       "</style>\n",
       "<table border=\"1\" class=\"dataframe\">\n",
       "  <thead>\n",
       "    <tr style=\"text-align: right;\">\n",
       "      <th></th>\n",
       "      <th>CAL</th>\n",
       "      <th>CNC</th>\n",
       "      <th>HRD</th>\n",
       "      <th>HRM</th>\n",
       "      <th>ZDEN</th>\n",
       "    </tr>\n",
       "  </thead>\n",
       "  <tbody>\n",
       "    <tr>\n",
       "      <th>0</th>\n",
       "      <td>-999.0</td>\n",
       "      <td>-999.0</td>\n",
       "      <td>-999.0</td>\n",
       "      <td>-999.0</td>\n",
       "      <td>-999.0</td>\n",
       "    </tr>\n",
       "    <tr>\n",
       "      <th>1</th>\n",
       "      <td>-999.0</td>\n",
       "      <td>-999.0</td>\n",
       "      <td>-999.0</td>\n",
       "      <td>-999.0</td>\n",
       "      <td>-999.0</td>\n",
       "    </tr>\n",
       "    <tr>\n",
       "      <th>2</th>\n",
       "      <td>-999.0</td>\n",
       "      <td>-999.0</td>\n",
       "      <td>-999.0</td>\n",
       "      <td>-999.0</td>\n",
       "      <td>-999.0</td>\n",
       "    </tr>\n",
       "    <tr>\n",
       "      <th>3</th>\n",
       "      <td>-999.0</td>\n",
       "      <td>-999.0</td>\n",
       "      <td>-999.0</td>\n",
       "      <td>-999.0</td>\n",
       "      <td>-999.0</td>\n",
       "    </tr>\n",
       "    <tr>\n",
       "      <th>4</th>\n",
       "      <td>-999.0</td>\n",
       "      <td>-999.0</td>\n",
       "      <td>-999.0</td>\n",
       "      <td>-999.0</td>\n",
       "      <td>-999.0</td>\n",
       "    </tr>\n",
       "  </tbody>\n",
       "</table>\n",
       "</div>"
      ],
      "text/plain": [
       "     CAL    CNC    HRD    HRM   ZDEN\n",
       "0 -999.0 -999.0 -999.0 -999.0 -999.0\n",
       "1 -999.0 -999.0 -999.0 -999.0 -999.0\n",
       "2 -999.0 -999.0 -999.0 -999.0 -999.0\n",
       "3 -999.0 -999.0 -999.0 -999.0 -999.0\n",
       "4 -999.0 -999.0 -999.0 -999.0 -999.0"
      ]
     },
     "execution_count": 18,
     "metadata": {},
     "output_type": "execute_result"
    }
   ],
   "source": [
    "X_train.head()"
   ]
  },
  {
   "cell_type": "code",
   "execution_count": 19,
   "id": "06f406b7",
   "metadata": {
    "execution": {
     "iopub.execute_input": "2023-01-20T19:44:38.384813Z",
     "iopub.status.busy": "2023-01-20T19:44:38.384071Z",
     "iopub.status.idle": "2023-01-20T19:44:38.397329Z",
     "shell.execute_reply": "2023-01-20T19:44:38.396134Z"
    },
    "papermill": {
     "duration": 0.029556,
     "end_time": "2023-01-20T19:44:38.400071",
     "exception": false,
     "start_time": "2023-01-20T19:44:38.370515",
     "status": "completed"
    },
    "tags": []
   },
   "outputs": [
    {
     "data": {
      "text/html": [
       "<div>\n",
       "<style scoped>\n",
       "    .dataframe tbody tr th:only-of-type {\n",
       "        vertical-align: middle;\n",
       "    }\n",
       "\n",
       "    .dataframe tbody tr th {\n",
       "        vertical-align: top;\n",
       "    }\n",
       "\n",
       "    .dataframe thead th {\n",
       "        text-align: right;\n",
       "    }\n",
       "</style>\n",
       "<table border=\"1\" class=\"dataframe\">\n",
       "  <thead>\n",
       "    <tr style=\"text-align: right;\">\n",
       "      <th></th>\n",
       "      <th>CAL</th>\n",
       "      <th>CNC</th>\n",
       "      <th>HRD</th>\n",
       "      <th>HRM</th>\n",
       "      <th>ZDEN</th>\n",
       "    </tr>\n",
       "  </thead>\n",
       "  <tbody>\n",
       "    <tr>\n",
       "      <th>0</th>\n",
       "      <td>8.5781</td>\n",
       "      <td>0.3521</td>\n",
       "      <td>0.8121</td>\n",
       "      <td>0.7810</td>\n",
       "      <td>2.3256</td>\n",
       "    </tr>\n",
       "    <tr>\n",
       "      <th>1</th>\n",
       "      <td>8.5781</td>\n",
       "      <td>0.3639</td>\n",
       "      <td>0.8038</td>\n",
       "      <td>0.7723</td>\n",
       "      <td>2.3255</td>\n",
       "    </tr>\n",
       "    <tr>\n",
       "      <th>2</th>\n",
       "      <td>8.5781</td>\n",
       "      <td>0.3703</td>\n",
       "      <td>0.7444</td>\n",
       "      <td>0.7048</td>\n",
       "      <td>2.3212</td>\n",
       "    </tr>\n",
       "    <tr>\n",
       "      <th>3</th>\n",
       "      <td>8.5625</td>\n",
       "      <td>0.3667</td>\n",
       "      <td>0.7169</td>\n",
       "      <td>0.6542</td>\n",
       "      <td>2.3119</td>\n",
       "    </tr>\n",
       "    <tr>\n",
       "      <th>4</th>\n",
       "      <td>8.5781</td>\n",
       "      <td>0.3500</td>\n",
       "      <td>0.6845</td>\n",
       "      <td>0.6109</td>\n",
       "      <td>2.2982</td>\n",
       "    </tr>\n",
       "  </tbody>\n",
       "</table>\n",
       "</div>"
      ],
      "text/plain": [
       "      CAL     CNC     HRD     HRM    ZDEN\n",
       "0  8.5781  0.3521  0.8121  0.7810  2.3256\n",
       "1  8.5781  0.3639  0.8038  0.7723  2.3255\n",
       "2  8.5781  0.3703  0.7444  0.7048  2.3212\n",
       "3  8.5625  0.3667  0.7169  0.6542  2.3119\n",
       "4  8.5781  0.3500  0.6845  0.6109  2.2982"
      ]
     },
     "execution_count": 19,
     "metadata": {},
     "output_type": "execute_result"
    }
   ],
   "source": [
    "X_test.head()"
   ]
  },
  {
   "cell_type": "markdown",
   "id": "6123cbfc",
   "metadata": {
    "papermill": {
     "duration": 0.011734,
     "end_time": "2023-01-20T19:44:38.423918",
     "exception": false,
     "start_time": "2023-01-20T19:44:38.412184",
     "status": "completed"
    },
    "tags": []
   },
   "source": [
    "Scaling to the dataset for more accurate predictions. StandardScaler will be used for the above example"
   ]
  },
  {
   "cell_type": "code",
   "execution_count": 20,
   "id": "858ecb91",
   "metadata": {
    "execution": {
     "iopub.execute_input": "2023-01-20T19:44:38.449955Z",
     "iopub.status.busy": "2023-01-20T19:44:38.449504Z",
     "iopub.status.idle": "2023-01-20T19:44:38.464131Z",
     "shell.execute_reply": "2023-01-20T19:44:38.462772Z"
    },
    "papermill": {
     "duration": 0.031065,
     "end_time": "2023-01-20T19:44:38.466922",
     "exception": false,
     "start_time": "2023-01-20T19:44:38.435857",
     "status": "completed"
    },
    "tags": []
   },
   "outputs": [],
   "source": [
    "from sklearn.preprocessing import StandardScaler\n",
    "\n",
    "# create the scaler\n",
    "scaler = StandardScaler()\n",
    "\n",
    "# fit and transform the training data\n",
    "X_train_scaled = scaler.fit_transform(X_train)\n",
    "\n",
    "# convert the scaled data back to a pandas DataFrame\n",
    "X_train_scaled = pd.DataFrame(X_train_scaled, columns=X_train.columns)\n",
    "\n",
    "# transform the test data\n",
    "X_test_scaled = scaler.transform(X_test)\n",
    "\n",
    "# convert the scaled data back to a pandas DataFrame\n",
    "X_test_scaled = pd.DataFrame(X_test_scaled, columns=X_test.columns)\n"
   ]
  },
  {
   "cell_type": "markdown",
   "id": "bd795ac1",
   "metadata": {
    "papermill": {
     "duration": 0.011885,
     "end_time": "2023-01-20T19:44:38.491100",
     "exception": false,
     "start_time": "2023-01-20T19:44:38.479215",
     "status": "completed"
    },
    "tags": []
   },
   "source": [
    "viewing the final scaled train and test datasets"
   ]
  },
  {
   "cell_type": "code",
   "execution_count": 21,
   "id": "c4673f79",
   "metadata": {
    "execution": {
     "iopub.execute_input": "2023-01-20T19:44:38.517358Z",
     "iopub.status.busy": "2023-01-20T19:44:38.516943Z",
     "iopub.status.idle": "2023-01-20T19:44:38.531229Z",
     "shell.execute_reply": "2023-01-20T19:44:38.529846Z"
    },
    "papermill": {
     "duration": 0.030877,
     "end_time": "2023-01-20T19:44:38.534210",
     "exception": false,
     "start_time": "2023-01-20T19:44:38.503333",
     "status": "completed"
    },
    "tags": []
   },
   "outputs": [
    {
     "data": {
      "text/html": [
       "<div>\n",
       "<style scoped>\n",
       "    .dataframe tbody tr th:only-of-type {\n",
       "        vertical-align: middle;\n",
       "    }\n",
       "\n",
       "    .dataframe tbody tr th {\n",
       "        vertical-align: top;\n",
       "    }\n",
       "\n",
       "    .dataframe thead th {\n",
       "        text-align: right;\n",
       "    }\n",
       "</style>\n",
       "<table border=\"1\" class=\"dataframe\">\n",
       "  <thead>\n",
       "    <tr style=\"text-align: right;\">\n",
       "      <th></th>\n",
       "      <th>CAL</th>\n",
       "      <th>CNC</th>\n",
       "      <th>HRD</th>\n",
       "      <th>HRM</th>\n",
       "      <th>ZDEN</th>\n",
       "    </tr>\n",
       "  </thead>\n",
       "  <tbody>\n",
       "    <tr>\n",
       "      <th>0</th>\n",
       "      <td>-7.621914</td>\n",
       "      <td>-6.206612</td>\n",
       "      <td>-2.747081</td>\n",
       "      <td>-2.189854</td>\n",
       "      <td>-6.577444</td>\n",
       "    </tr>\n",
       "    <tr>\n",
       "      <th>1</th>\n",
       "      <td>-7.621914</td>\n",
       "      <td>-6.206612</td>\n",
       "      <td>-2.747081</td>\n",
       "      <td>-2.189854</td>\n",
       "      <td>-6.577444</td>\n",
       "    </tr>\n",
       "    <tr>\n",
       "      <th>2</th>\n",
       "      <td>-7.621914</td>\n",
       "      <td>-6.206612</td>\n",
       "      <td>-2.747081</td>\n",
       "      <td>-2.189854</td>\n",
       "      <td>-6.577444</td>\n",
       "    </tr>\n",
       "    <tr>\n",
       "      <th>3</th>\n",
       "      <td>-7.621914</td>\n",
       "      <td>-6.206612</td>\n",
       "      <td>-2.747081</td>\n",
       "      <td>-2.189854</td>\n",
       "      <td>-6.577444</td>\n",
       "    </tr>\n",
       "    <tr>\n",
       "      <th>4</th>\n",
       "      <td>-7.621914</td>\n",
       "      <td>-6.206612</td>\n",
       "      <td>-2.747081</td>\n",
       "      <td>-2.189854</td>\n",
       "      <td>-6.577444</td>\n",
       "    </tr>\n",
       "  </tbody>\n",
       "</table>\n",
       "</div>"
      ],
      "text/plain": [
       "        CAL       CNC       HRD       HRM      ZDEN\n",
       "0 -7.621914 -6.206612 -2.747081 -2.189854 -6.577444\n",
       "1 -7.621914 -6.206612 -2.747081 -2.189854 -6.577444\n",
       "2 -7.621914 -6.206612 -2.747081 -2.189854 -6.577444\n",
       "3 -7.621914 -6.206612 -2.747081 -2.189854 -6.577444\n",
       "4 -7.621914 -6.206612 -2.747081 -2.189854 -6.577444"
      ]
     },
     "execution_count": 21,
     "metadata": {},
     "output_type": "execute_result"
    }
   ],
   "source": [
    "X_train_scaled.head()"
   ]
  },
  {
   "cell_type": "code",
   "execution_count": 22,
   "id": "c4c4a0cd",
   "metadata": {
    "execution": {
     "iopub.execute_input": "2023-01-20T19:44:38.561074Z",
     "iopub.status.busy": "2023-01-20T19:44:38.560644Z",
     "iopub.status.idle": "2023-01-20T19:44:38.574526Z",
     "shell.execute_reply": "2023-01-20T19:44:38.573426Z"
    },
    "papermill": {
     "duration": 0.030445,
     "end_time": "2023-01-20T19:44:38.577479",
     "exception": false,
     "start_time": "2023-01-20T19:44:38.547034",
     "status": "completed"
    },
    "tags": []
   },
   "outputs": [
    {
     "data": {
      "text/html": [
       "<div>\n",
       "<style scoped>\n",
       "    .dataframe tbody tr th:only-of-type {\n",
       "        vertical-align: middle;\n",
       "    }\n",
       "\n",
       "    .dataframe tbody tr th {\n",
       "        vertical-align: top;\n",
       "    }\n",
       "\n",
       "    .dataframe thead th {\n",
       "        text-align: right;\n",
       "    }\n",
       "</style>\n",
       "<table border=\"1\" class=\"dataframe\">\n",
       "  <thead>\n",
       "    <tr style=\"text-align: right;\">\n",
       "      <th></th>\n",
       "      <th>CAL</th>\n",
       "      <th>CNC</th>\n",
       "      <th>HRD</th>\n",
       "      <th>HRM</th>\n",
       "      <th>ZDEN</th>\n",
       "    </tr>\n",
       "  </thead>\n",
       "  <tbody>\n",
       "    <tr>\n",
       "      <th>0</th>\n",
       "      <td>0.130591</td>\n",
       "      <td>0.153015</td>\n",
       "      <td>-0.008670</td>\n",
       "      <td>-0.001677</td>\n",
       "      <td>0.151576</td>\n",
       "    </tr>\n",
       "    <tr>\n",
       "      <th>1</th>\n",
       "      <td>0.130591</td>\n",
       "      <td>0.153090</td>\n",
       "      <td>-0.008693</td>\n",
       "      <td>-0.001696</td>\n",
       "      <td>0.151575</td>\n",
       "    </tr>\n",
       "    <tr>\n",
       "      <th>2</th>\n",
       "      <td>0.130591</td>\n",
       "      <td>0.153130</td>\n",
       "      <td>-0.008856</td>\n",
       "      <td>-0.001844</td>\n",
       "      <td>0.151546</td>\n",
       "    </tr>\n",
       "    <tr>\n",
       "      <th>3</th>\n",
       "      <td>0.130471</td>\n",
       "      <td>0.153107</td>\n",
       "      <td>-0.008931</td>\n",
       "      <td>-0.001955</td>\n",
       "      <td>0.151484</td>\n",
       "    </tr>\n",
       "    <tr>\n",
       "      <th>4</th>\n",
       "      <td>0.130591</td>\n",
       "      <td>0.153001</td>\n",
       "      <td>-0.009020</td>\n",
       "      <td>-0.002049</td>\n",
       "      <td>0.151392</td>\n",
       "    </tr>\n",
       "  </tbody>\n",
       "</table>\n",
       "</div>"
      ],
      "text/plain": [
       "        CAL       CNC       HRD       HRM      ZDEN\n",
       "0  0.130591  0.153015 -0.008670 -0.001677  0.151576\n",
       "1  0.130591  0.153090 -0.008693 -0.001696  0.151575\n",
       "2  0.130591  0.153130 -0.008856 -0.001844  0.151546\n",
       "3  0.130471  0.153107 -0.008931 -0.001955  0.151484\n",
       "4  0.130591  0.153001 -0.009020 -0.002049  0.151392"
      ]
     },
     "execution_count": 22,
     "metadata": {},
     "output_type": "execute_result"
    }
   ],
   "source": [
    "X_test_scaled.head()"
   ]
  },
  {
   "cell_type": "markdown",
   "id": "0d9dd0a1",
   "metadata": {
    "papermill": {
     "duration": 0.01222,
     "end_time": "2023-01-20T19:44:38.602628",
     "exception": false,
     "start_time": "2023-01-20T19:44:38.590408",
     "status": "completed"
    },
    "tags": []
   },
   "source": [
    "**XGBoost:**\n",
    "\n",
    "XGBoost (eXtreme Gradient Boosting) is a popular and powerful open-source library for gradient boosting. It is designed to be efficient and scalable for both small and large datasets, and can handle a variety of problem types, including classification and regression.\n",
    "\n",
    "XGBoost is built on top of the traditional gradient boosting algorithm, but includes several key enhancements"
   ]
  },
  {
   "cell_type": "markdown",
   "id": "3649b2f2",
   "metadata": {
    "papermill": {
     "duration": 0.012139,
     "end_time": "2023-01-20T19:44:38.627284",
     "exception": false,
     "start_time": "2023-01-20T19:44:38.615145",
     "status": "completed"
    },
    "tags": []
   },
   "source": [
    "**GridSearchCV**\n",
    "\n",
    "GridSearchCV is a scikit-learn function that performs an exhaustive search over a specified parameter grid to find the best combination of hyperparameters for a given model. It is commonly used in machine learning to fine-tune the parameters of a model and improve its performance."
   ]
  },
  {
   "cell_type": "markdown",
   "id": "302304db",
   "metadata": {
    "papermill": {
     "duration": 0.011944,
     "end_time": "2023-01-20T19:44:38.651648",
     "exception": false,
     "start_time": "2023-01-20T19:44:38.639704",
     "status": "completed"
    },
    "tags": []
   },
   "source": [
    "First and foremost, we will use GridSearchCV to find the best set of parameters for our xgboost model as per the dataset. This is in accordance to the first target variable. Considering the identical information gain, there shouldn't be a big difference in the ideal hyperparameters for both target features."
   ]
  },
  {
   "cell_type": "code",
   "execution_count": 23,
   "id": "3ef0aac5",
   "metadata": {
    "execution": {
     "iopub.execute_input": "2023-01-20T19:44:38.678362Z",
     "iopub.status.busy": "2023-01-20T19:44:38.677936Z",
     "iopub.status.idle": "2023-01-20T19:56:38.213256Z",
     "shell.execute_reply": "2023-01-20T19:56:38.211969Z"
    },
    "papermill": {
     "duration": 719.559697,
     "end_time": "2023-01-20T19:56:38.223626",
     "exception": false,
     "start_time": "2023-01-20T19:44:38.663929",
     "status": "completed"
    },
    "tags": []
   },
   "outputs": [
    {
     "name": "stdout",
     "output_type": "stream",
     "text": [
      "{'learning_rate': 0.75, 'n_estimators': 200}\n"
     ]
    }
   ],
   "source": [
    "from xgboost import XGBRegressor\n",
    "from sklearn.model_selection import GridSearchCV\n",
    "model=XGBRegressor()\n",
    "param_grid = {'learning_rate':[0.05, 0.75, 0.1], 'n_estimators':[200,400,600,800,1000]}\n",
    "grid_search = GridSearchCV(model, param_grid, cv=5, scoring='neg_mean_squared_error')\n",
    "#scoring hyperparameter ensures we're using RMSE as the necessary factor\n",
    "grid_search.fit(X_train_scaled, y1_train)\n",
    "print(grid_search.best_params_)"
   ]
  },
  {
   "cell_type": "markdown",
   "id": "19b57c7c",
   "metadata": {
    "papermill": {
     "duration": 0.01262,
     "end_time": "2023-01-20T19:56:38.250166",
     "exception": false,
     "start_time": "2023-01-20T19:56:38.237546",
     "status": "completed"
    },
    "tags": []
   },
   "source": [
    "fitting and predicting the first target variable using the ideal hyperparameters"
   ]
  },
  {
   "cell_type": "code",
   "execution_count": 24,
   "id": "440abac8",
   "metadata": {
    "execution": {
     "iopub.execute_input": "2023-01-20T19:56:38.277306Z",
     "iopub.status.busy": "2023-01-20T19:56:38.276848Z",
     "iopub.status.idle": "2023-01-20T19:56:41.821155Z",
     "shell.execute_reply": "2023-01-20T19:56:41.820139Z"
    },
    "papermill": {
     "duration": 3.560787,
     "end_time": "2023-01-20T19:56:41.823775",
     "exception": false,
     "start_time": "2023-01-20T19:56:38.262988",
     "status": "completed"
    },
    "tags": []
   },
   "outputs": [],
   "source": [
    "model1=XGBRegressor(learning_rate=0.75,n_estimators=200)\n",
    "model1.fit(X_train_scaled,y1_train)\n",
    "pred1=model1.predict(X_test_scaled)"
   ]
  },
  {
   "cell_type": "markdown",
   "id": "d7acec4a",
   "metadata": {
    "papermill": {
     "duration": 0.012086,
     "end_time": "2023-01-20T19:56:41.851164",
     "exception": false,
     "start_time": "2023-01-20T19:56:41.839078",
     "status": "completed"
    },
    "tags": []
   },
   "source": [
    "fitting and predicting the second target variable with the same hyperparameters"
   ]
  },
  {
   "cell_type": "code",
   "execution_count": 25,
   "id": "6a0da21c",
   "metadata": {
    "execution": {
     "iopub.execute_input": "2023-01-20T19:56:41.877583Z",
     "iopub.status.busy": "2023-01-20T19:56:41.877181Z",
     "iopub.status.idle": "2023-01-20T19:56:45.510918Z",
     "shell.execute_reply": "2023-01-20T19:56:45.509975Z"
    },
    "papermill": {
     "duration": 3.650065,
     "end_time": "2023-01-20T19:56:45.513554",
     "exception": false,
     "start_time": "2023-01-20T19:56:41.863489",
     "status": "completed"
    },
    "tags": []
   },
   "outputs": [],
   "source": [
    "model2=XGBRegressor(learning_rate=0.75,n_estimators=200)\n",
    "model2.fit(X_train_scaled,y2_train)\n",
    "pred2=model2.predict(X_test_scaled)"
   ]
  },
  {
   "cell_type": "markdown",
   "id": "7239f6bb",
   "metadata": {
    "papermill": {
     "duration": 0.012161,
     "end_time": "2023-01-20T19:56:45.540377",
     "exception": false,
     "start_time": "2023-01-20T19:56:45.528216",
     "status": "completed"
    },
    "tags": []
   },
   "source": [
    "Displaying the predicted values and saving it in the form of a csv"
   ]
  },
  {
   "cell_type": "code",
   "execution_count": 26,
   "id": "2189690b",
   "metadata": {
    "execution": {
     "iopub.execute_input": "2023-01-20T19:56:45.566830Z",
     "iopub.status.busy": "2023-01-20T19:56:45.566437Z",
     "iopub.status.idle": "2023-01-20T19:56:45.603207Z",
     "shell.execute_reply": "2023-01-20T19:56:45.601776Z"
    },
    "papermill": {
     "duration": 0.053295,
     "end_time": "2023-01-20T19:56:45.606142",
     "exception": false,
     "start_time": "2023-01-20T19:56:45.552847",
     "status": "completed"
    },
    "tags": []
   },
   "outputs": [
    {
     "name": "stdout",
     "output_type": "stream",
     "text": [
      "Successful Save\n"
     ]
    }
   ],
   "source": [
    "output=pd.DataFrame({'DTC':pred1,'DTS':pred2})\n",
    "output.to_csv('submission.csv',index=False)\n",
    "print(\"Successful Save\")"
   ]
  },
  {
   "cell_type": "markdown",
   "id": "b287b62d",
   "metadata": {
    "papermill": {
     "duration": 0.012202,
     "end_time": "2023-01-20T19:56:45.631644",
     "exception": false,
     "start_time": "2023-01-20T19:56:45.619442",
     "status": "completed"
    },
    "tags": []
   },
   "source": [
    "viewing the final submission"
   ]
  },
  {
   "cell_type": "code",
   "execution_count": 27,
   "id": "013f2b7c",
   "metadata": {
    "execution": {
     "iopub.execute_input": "2023-01-20T19:56:45.658781Z",
     "iopub.status.busy": "2023-01-20T19:56:45.658066Z",
     "iopub.status.idle": "2023-01-20T19:56:45.668128Z",
     "shell.execute_reply": "2023-01-20T19:56:45.667037Z"
    },
    "papermill": {
     "duration": 0.02636,
     "end_time": "2023-01-20T19:56:45.670413",
     "exception": false,
     "start_time": "2023-01-20T19:56:45.644053",
     "status": "completed"
    },
    "tags": []
   },
   "outputs": [
    {
     "data": {
      "text/html": [
       "<div>\n",
       "<style scoped>\n",
       "    .dataframe tbody tr th:only-of-type {\n",
       "        vertical-align: middle;\n",
       "    }\n",
       "\n",
       "    .dataframe tbody tr th {\n",
       "        vertical-align: top;\n",
       "    }\n",
       "\n",
       "    .dataframe thead th {\n",
       "        text-align: right;\n",
       "    }\n",
       "</style>\n",
       "<table border=\"1\" class=\"dataframe\">\n",
       "  <thead>\n",
       "    <tr style=\"text-align: right;\">\n",
       "      <th></th>\n",
       "      <th>DTC</th>\n",
       "      <th>DTS</th>\n",
       "    </tr>\n",
       "  </thead>\n",
       "  <tbody>\n",
       "    <tr>\n",
       "      <th>0</th>\n",
       "      <td>92.024918</td>\n",
       "      <td>-309.390106</td>\n",
       "    </tr>\n",
       "    <tr>\n",
       "      <th>1</th>\n",
       "      <td>95.081619</td>\n",
       "      <td>-337.873810</td>\n",
       "    </tr>\n",
       "    <tr>\n",
       "      <th>2</th>\n",
       "      <td>104.579163</td>\n",
       "      <td>226.597305</td>\n",
       "    </tr>\n",
       "    <tr>\n",
       "      <th>3</th>\n",
       "      <td>96.983925</td>\n",
       "      <td>66.709030</td>\n",
       "    </tr>\n",
       "    <tr>\n",
       "      <th>4</th>\n",
       "      <td>100.533195</td>\n",
       "      <td>203.336578</td>\n",
       "    </tr>\n",
       "  </tbody>\n",
       "</table>\n",
       "</div>"
      ],
      "text/plain": [
       "          DTC         DTS\n",
       "0   92.024918 -309.390106\n",
       "1   95.081619 -337.873810\n",
       "2  104.579163  226.597305\n",
       "3   96.983925   66.709030\n",
       "4  100.533195  203.336578"
      ]
     },
     "execution_count": 27,
     "metadata": {},
     "output_type": "execute_result"
    }
   ],
   "source": [
    "output.head()"
   ]
  },
  {
   "cell_type": "code",
   "execution_count": null,
   "id": "9cf7e775",
   "metadata": {
    "execution": {
     "iopub.execute_input": "2023-01-18T08:27:58.629317Z",
     "iopub.status.busy": "2023-01-18T08:27:58.628858Z",
     "iopub.status.idle": "2023-01-18T08:27:58.636992Z",
     "shell.execute_reply": "2023-01-18T08:27:58.63477Z",
     "shell.execute_reply.started": "2023-01-18T08:27:58.62928Z"
    },
    "papermill": {
     "duration": 0.012634,
     "end_time": "2023-01-20T19:56:45.696279",
     "exception": false,
     "start_time": "2023-01-20T19:56:45.683645",
     "status": "completed"
    },
    "tags": []
   },
   "outputs": [],
   "source": []
  },
  {
   "cell_type": "code",
   "execution_count": null,
   "id": "dbe847d9",
   "metadata": {
    "papermill": {
     "duration": 0.012298,
     "end_time": "2023-01-20T19:56:45.721482",
     "exception": false,
     "start_time": "2023-01-20T19:56:45.709184",
     "status": "completed"
    },
    "tags": []
   },
   "outputs": [],
   "source": []
  }
 ],
 "metadata": {
  "kernelspec": {
   "display_name": "Python 3",
   "language": "python",
   "name": "python3"
  },
  "language_info": {
   "codemirror_mode": {
    "name": "ipython",
    "version": 3
   },
   "file_extension": ".py",
   "mimetype": "text/x-python",
   "name": "python",
   "nbconvert_exporter": "python",
   "pygments_lexer": "ipython3",
   "version": "3.7.12"
  },
  "papermill": {
   "default_parameters": {},
   "duration": 742.481234,
   "end_time": "2023-01-20T19:56:46.559642",
   "environment_variables": {},
   "exception": null,
   "input_path": "__notebook__.ipynb",
   "output_path": "__notebook__.ipynb",
   "parameters": {},
   "start_time": "2023-01-20T19:44:24.078408",
   "version": "2.3.4"
  }
 },
 "nbformat": 4,
 "nbformat_minor": 5
}

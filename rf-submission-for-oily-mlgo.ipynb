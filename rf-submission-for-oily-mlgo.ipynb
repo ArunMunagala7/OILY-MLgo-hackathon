{
 "cells": [
  {
   "cell_type": "code",
   "execution_count": 1,
   "id": "f22996b1",
   "metadata": {
    "_cell_guid": "b1076dfc-b9ad-4769-8c92-a6c4dae69d19",
    "_uuid": "8f2839f25d086af736a60e9eeb907d3b93b6e0e5",
    "execution": {
     "iopub.execute_input": "2023-01-20T18:36:09.409139Z",
     "iopub.status.busy": "2023-01-20T18:36:09.407788Z",
     "iopub.status.idle": "2023-01-20T18:36:09.434798Z",
     "shell.execute_reply": "2023-01-20T18:36:09.433524Z"
    },
    "papermill": {
     "duration": 0.043453,
     "end_time": "2023-01-20T18:36:09.437482",
     "exception": false,
     "start_time": "2023-01-20T18:36:09.394029",
     "status": "completed"
    },
    "tags": []
   },
   "outputs": [
    {
     "name": "stdout",
     "output_type": "stream",
     "text": [
      "/kaggle/input/oily-mlgo-hackathon-data/sample_submission.csv\n",
      "/kaggle/input/oily-mlgo-hackathon-data/train.csv\n",
      "/kaggle/input/oily-mlgo-hackathon-data/test.csv\n"
     ]
    }
   ],
   "source": [
    "# This Python 3 environment comes with many helpful analytics libraries installed\n",
    "# It is defined by the kaggle/python Docker image: https://github.com/kaggle/docker-python\n",
    "# For example, here's several helpful packages to load\n",
    "\n",
    "import numpy as np # linear algebra\n",
    "import pandas as pd # data processing, CSV file I/O (e.g. pd.read_csv)\n",
    "\n",
    "# Input data files are available in the read-only \"../input/\" directory\n",
    "# For example, running this (by clicking run or pressing Shift+Enter) will list all files under the input directory\n",
    "\n",
    "import os\n",
    "for dirname, _, filenames in os.walk('/kaggle/input'):\n",
    "    for filename in filenames:\n",
    "        print(os.path.join(dirname, filename))\n",
    "\n",
    "# You can write up to 20GB to the current directory (/kaggle/working/) that gets preserved as output when you create a version using \"Save & Run All\" \n",
    "# You can also write temporary files to /kaggle/temp/, but they won't be saved outside of the current session"
   ]
  },
  {
   "cell_type": "markdown",
   "id": "21997862",
   "metadata": {
    "papermill": {
     "duration": 0.006696,
     "end_time": "2023-01-20T18:36:09.451539",
     "exception": false,
     "start_time": "2023-01-20T18:36:09.444843",
     "status": "completed"
    },
    "tags": []
   },
   "source": [
    "importing the train data"
   ]
  },
  {
   "cell_type": "code",
   "execution_count": 2,
   "id": "a04edd01",
   "metadata": {
    "execution": {
     "iopub.execute_input": "2023-01-20T18:36:09.468132Z",
     "iopub.status.busy": "2023-01-20T18:36:09.467374Z",
     "iopub.status.idle": "2023-01-20T18:36:09.587924Z",
     "shell.execute_reply": "2023-01-20T18:36:09.586822Z"
    },
    "papermill": {
     "duration": 0.13307,
     "end_time": "2023-01-20T18:36:09.591856",
     "exception": false,
     "start_time": "2023-01-20T18:36:09.458786",
     "status": "completed"
    },
    "tags": []
   },
   "outputs": [
    {
     "data": {
      "text/html": [
       "<div>\n",
       "<style scoped>\n",
       "    .dataframe tbody tr th:only-of-type {\n",
       "        vertical-align: middle;\n",
       "    }\n",
       "\n",
       "    .dataframe tbody tr th {\n",
       "        vertical-align: top;\n",
       "    }\n",
       "\n",
       "    .dataframe thead th {\n",
       "        text-align: right;\n",
       "    }\n",
       "</style>\n",
       "<table border=\"1\" class=\"dataframe\">\n",
       "  <thead>\n",
       "    <tr style=\"text-align: right;\">\n",
       "      <th></th>\n",
       "      <th>CAL</th>\n",
       "      <th>CNC</th>\n",
       "      <th>GR</th>\n",
       "      <th>HRD</th>\n",
       "      <th>HRM</th>\n",
       "      <th>PE</th>\n",
       "      <th>ZDEN</th>\n",
       "      <th>DTC</th>\n",
       "      <th>DTS</th>\n",
       "    </tr>\n",
       "  </thead>\n",
       "  <tbody>\n",
       "    <tr>\n",
       "      <th>0</th>\n",
       "      <td>-999.0</td>\n",
       "      <td>-999.0</td>\n",
       "      <td>41.4699</td>\n",
       "      <td>-999.0</td>\n",
       "      <td>-999.0</td>\n",
       "      <td>-999.0</td>\n",
       "      <td>-999.0</td>\n",
       "      <td>128.0737</td>\n",
       "      <td>319.0654</td>\n",
       "    </tr>\n",
       "    <tr>\n",
       "      <th>1</th>\n",
       "      <td>-999.0</td>\n",
       "      <td>-999.0</td>\n",
       "      <td>42.5053</td>\n",
       "      <td>-999.0</td>\n",
       "      <td>-999.0</td>\n",
       "      <td>-999.0</td>\n",
       "      <td>-999.0</td>\n",
       "      <td>127.8347</td>\n",
       "      <td>318.7825</td>\n",
       "    </tr>\n",
       "    <tr>\n",
       "      <th>2</th>\n",
       "      <td>-999.0</td>\n",
       "      <td>-999.0</td>\n",
       "      <td>43.1548</td>\n",
       "      <td>-999.0</td>\n",
       "      <td>-999.0</td>\n",
       "      <td>-999.0</td>\n",
       "      <td>-999.0</td>\n",
       "      <td>127.2307</td>\n",
       "      <td>317.3323</td>\n",
       "    </tr>\n",
       "    <tr>\n",
       "      <th>3</th>\n",
       "      <td>-999.0</td>\n",
       "      <td>-999.0</td>\n",
       "      <td>43.2410</td>\n",
       "      <td>-999.0</td>\n",
       "      <td>-999.0</td>\n",
       "      <td>-999.0</td>\n",
       "      <td>-999.0</td>\n",
       "      <td>126.2917</td>\n",
       "      <td>313.6486</td>\n",
       "    </tr>\n",
       "    <tr>\n",
       "      <th>4</th>\n",
       "      <td>-999.0</td>\n",
       "      <td>-999.0</td>\n",
       "      <td>40.3218</td>\n",
       "      <td>-999.0</td>\n",
       "      <td>-999.0</td>\n",
       "      <td>-999.0</td>\n",
       "      <td>-999.0</td>\n",
       "      <td>125.3985</td>\n",
       "      <td>307.8903</td>\n",
       "    </tr>\n",
       "  </tbody>\n",
       "</table>\n",
       "</div>"
      ],
      "text/plain": [
       "     CAL    CNC       GR    HRD    HRM     PE   ZDEN       DTC       DTS\n",
       "0 -999.0 -999.0  41.4699 -999.0 -999.0 -999.0 -999.0  128.0737  319.0654\n",
       "1 -999.0 -999.0  42.5053 -999.0 -999.0 -999.0 -999.0  127.8347  318.7825\n",
       "2 -999.0 -999.0  43.1548 -999.0 -999.0 -999.0 -999.0  127.2307  317.3323\n",
       "3 -999.0 -999.0  43.2410 -999.0 -999.0 -999.0 -999.0  126.2917  313.6486\n",
       "4 -999.0 -999.0  40.3218 -999.0 -999.0 -999.0 -999.0  125.3985  307.8903"
      ]
     },
     "execution_count": 2,
     "metadata": {},
     "output_type": "execute_result"
    }
   ],
   "source": [
    "train_data=pd.read_csv('/kaggle/input/oily-mlgo-hackathon-data/train.csv')\n",
    "train_data.head()"
   ]
  },
  {
   "cell_type": "markdown",
   "id": "76b836fc",
   "metadata": {
    "papermill": {
     "duration": 0.006894,
     "end_time": "2023-01-20T18:36:09.606704",
     "exception": false,
     "start_time": "2023-01-20T18:36:09.599810",
     "status": "completed"
    },
    "tags": []
   },
   "source": [
    "importing test data"
   ]
  },
  {
   "cell_type": "code",
   "execution_count": 3,
   "id": "14bb0e92",
   "metadata": {
    "execution": {
     "iopub.execute_input": "2023-01-20T18:36:09.622984Z",
     "iopub.status.busy": "2023-01-20T18:36:09.622553Z",
     "iopub.status.idle": "2023-01-20T18:36:09.673303Z",
     "shell.execute_reply": "2023-01-20T18:36:09.671916Z"
    },
    "papermill": {
     "duration": 0.063409,
     "end_time": "2023-01-20T18:36:09.677360",
     "exception": false,
     "start_time": "2023-01-20T18:36:09.613951",
     "status": "completed"
    },
    "tags": []
   },
   "outputs": [
    {
     "data": {
      "text/html": [
       "<div>\n",
       "<style scoped>\n",
       "    .dataframe tbody tr th:only-of-type {\n",
       "        vertical-align: middle;\n",
       "    }\n",
       "\n",
       "    .dataframe tbody tr th {\n",
       "        vertical-align: top;\n",
       "    }\n",
       "\n",
       "    .dataframe thead th {\n",
       "        text-align: right;\n",
       "    }\n",
       "</style>\n",
       "<table border=\"1\" class=\"dataframe\">\n",
       "  <thead>\n",
       "    <tr style=\"text-align: right;\">\n",
       "      <th></th>\n",
       "      <th>CAL</th>\n",
       "      <th>CNC</th>\n",
       "      <th>GR</th>\n",
       "      <th>HRD</th>\n",
       "      <th>HRM</th>\n",
       "      <th>PE</th>\n",
       "      <th>ZDEN</th>\n",
       "    </tr>\n",
       "  </thead>\n",
       "  <tbody>\n",
       "    <tr>\n",
       "      <th>0</th>\n",
       "      <td>8.5781</td>\n",
       "      <td>0.3521</td>\n",
       "      <td>55.1824</td>\n",
       "      <td>0.8121</td>\n",
       "      <td>0.7810</td>\n",
       "      <td>6.8291</td>\n",
       "      <td>2.3256</td>\n",
       "    </tr>\n",
       "    <tr>\n",
       "      <th>1</th>\n",
       "      <td>8.5781</td>\n",
       "      <td>0.3639</td>\n",
       "      <td>57.0114</td>\n",
       "      <td>0.8038</td>\n",
       "      <td>0.7723</td>\n",
       "      <td>6.8100</td>\n",
       "      <td>2.3255</td>\n",
       "    </tr>\n",
       "    <tr>\n",
       "      <th>2</th>\n",
       "      <td>8.5781</td>\n",
       "      <td>0.3703</td>\n",
       "      <td>58.9263</td>\n",
       "      <td>0.7444</td>\n",
       "      <td>0.7048</td>\n",
       "      <td>6.7766</td>\n",
       "      <td>2.3212</td>\n",
       "    </tr>\n",
       "    <tr>\n",
       "      <th>3</th>\n",
       "      <td>8.5625</td>\n",
       "      <td>0.3667</td>\n",
       "      <td>57.3308</td>\n",
       "      <td>0.7169</td>\n",
       "      <td>0.6542</td>\n",
       "      <td>6.7219</td>\n",
       "      <td>2.3119</td>\n",
       "    </tr>\n",
       "    <tr>\n",
       "      <th>4</th>\n",
       "      <td>8.5781</td>\n",
       "      <td>0.3500</td>\n",
       "      <td>53.0624</td>\n",
       "      <td>0.6845</td>\n",
       "      <td>0.6109</td>\n",
       "      <td>6.6384</td>\n",
       "      <td>2.2982</td>\n",
       "    </tr>\n",
       "  </tbody>\n",
       "</table>\n",
       "</div>"
      ],
      "text/plain": [
       "      CAL     CNC       GR     HRD     HRM      PE    ZDEN\n",
       "0  8.5781  0.3521  55.1824  0.8121  0.7810  6.8291  2.3256\n",
       "1  8.5781  0.3639  57.0114  0.8038  0.7723  6.8100  2.3255\n",
       "2  8.5781  0.3703  58.9263  0.7444  0.7048  6.7766  2.3212\n",
       "3  8.5625  0.3667  57.3308  0.7169  0.6542  6.7219  2.3119\n",
       "4  8.5781  0.3500  53.0624  0.6845  0.6109  6.6384  2.2982"
      ]
     },
     "execution_count": 3,
     "metadata": {},
     "output_type": "execute_result"
    }
   ],
   "source": [
    "test_data=pd.read_csv('/kaggle/input/oily-mlgo-hackathon-data/test.csv')\n",
    "test_data.head()"
   ]
  },
  {
   "cell_type": "markdown",
   "id": "d42eccc5",
   "metadata": {
    "papermill": {
     "duration": 0.007204,
     "end_time": "2023-01-20T18:36:09.693946",
     "exception": false,
     "start_time": "2023-01-20T18:36:09.686742",
     "status": "completed"
    },
    "tags": []
   },
   "source": [
    "figuring out the important features for prediction of the target variables"
   ]
  },
  {
   "cell_type": "code",
   "execution_count": 4,
   "id": "154d985c",
   "metadata": {
    "execution": {
     "iopub.execute_input": "2023-01-20T18:36:09.711381Z",
     "iopub.status.busy": "2023-01-20T18:36:09.710587Z",
     "iopub.status.idle": "2023-01-20T18:36:09.727220Z",
     "shell.execute_reply": "2023-01-20T18:36:09.725978Z"
    },
    "papermill": {
     "duration": 0.028,
     "end_time": "2023-01-20T18:36:09.729731",
     "exception": false,
     "start_time": "2023-01-20T18:36:09.701731",
     "status": "completed"
    },
    "tags": []
   },
   "outputs": [
    {
     "data": {
      "text/html": [
       "<div>\n",
       "<style scoped>\n",
       "    .dataframe tbody tr th:only-of-type {\n",
       "        vertical-align: middle;\n",
       "    }\n",
       "\n",
       "    .dataframe tbody tr th {\n",
       "        vertical-align: top;\n",
       "    }\n",
       "\n",
       "    .dataframe thead th {\n",
       "        text-align: right;\n",
       "    }\n",
       "</style>\n",
       "<table border=\"1\" class=\"dataframe\">\n",
       "  <thead>\n",
       "    <tr style=\"text-align: right;\">\n",
       "      <th></th>\n",
       "      <th>CAL</th>\n",
       "      <th>CNC</th>\n",
       "      <th>GR</th>\n",
       "      <th>HRD</th>\n",
       "      <th>HRM</th>\n",
       "      <th>PE</th>\n",
       "      <th>ZDEN</th>\n",
       "    </tr>\n",
       "  </thead>\n",
       "  <tbody>\n",
       "    <tr>\n",
       "      <th>0</th>\n",
       "      <td>-999.0</td>\n",
       "      <td>-999.0</td>\n",
       "      <td>41.4699</td>\n",
       "      <td>-999.0</td>\n",
       "      <td>-999.0</td>\n",
       "      <td>-999.0</td>\n",
       "      <td>-999.0</td>\n",
       "    </tr>\n",
       "    <tr>\n",
       "      <th>1</th>\n",
       "      <td>-999.0</td>\n",
       "      <td>-999.0</td>\n",
       "      <td>42.5053</td>\n",
       "      <td>-999.0</td>\n",
       "      <td>-999.0</td>\n",
       "      <td>-999.0</td>\n",
       "      <td>-999.0</td>\n",
       "    </tr>\n",
       "    <tr>\n",
       "      <th>2</th>\n",
       "      <td>-999.0</td>\n",
       "      <td>-999.0</td>\n",
       "      <td>43.1548</td>\n",
       "      <td>-999.0</td>\n",
       "      <td>-999.0</td>\n",
       "      <td>-999.0</td>\n",
       "      <td>-999.0</td>\n",
       "    </tr>\n",
       "    <tr>\n",
       "      <th>3</th>\n",
       "      <td>-999.0</td>\n",
       "      <td>-999.0</td>\n",
       "      <td>43.2410</td>\n",
       "      <td>-999.0</td>\n",
       "      <td>-999.0</td>\n",
       "      <td>-999.0</td>\n",
       "      <td>-999.0</td>\n",
       "    </tr>\n",
       "    <tr>\n",
       "      <th>4</th>\n",
       "      <td>-999.0</td>\n",
       "      <td>-999.0</td>\n",
       "      <td>40.3218</td>\n",
       "      <td>-999.0</td>\n",
       "      <td>-999.0</td>\n",
       "      <td>-999.0</td>\n",
       "      <td>-999.0</td>\n",
       "    </tr>\n",
       "  </tbody>\n",
       "</table>\n",
       "</div>"
      ],
      "text/plain": [
       "     CAL    CNC       GR    HRD    HRM     PE   ZDEN\n",
       "0 -999.0 -999.0  41.4699 -999.0 -999.0 -999.0 -999.0\n",
       "1 -999.0 -999.0  42.5053 -999.0 -999.0 -999.0 -999.0\n",
       "2 -999.0 -999.0  43.1548 -999.0 -999.0 -999.0 -999.0\n",
       "3 -999.0 -999.0  43.2410 -999.0 -999.0 -999.0 -999.0\n",
       "4 -999.0 -999.0  40.3218 -999.0 -999.0 -999.0 -999.0"
      ]
     },
     "execution_count": 4,
     "metadata": {},
     "output_type": "execute_result"
    }
   ],
   "source": [
    "X_train=train_data.iloc[:,0:7]\n",
    "X_train.head()"
   ]
  },
  {
   "cell_type": "code",
   "execution_count": 5,
   "id": "89ff33f4",
   "metadata": {
    "execution": {
     "iopub.execute_input": "2023-01-20T18:36:09.747277Z",
     "iopub.status.busy": "2023-01-20T18:36:09.746456Z",
     "iopub.status.idle": "2023-01-20T18:36:09.758733Z",
     "shell.execute_reply": "2023-01-20T18:36:09.757638Z"
    },
    "papermill": {
     "duration": 0.023842,
     "end_time": "2023-01-20T18:36:09.761162",
     "exception": false,
     "start_time": "2023-01-20T18:36:09.737320",
     "status": "completed"
    },
    "tags": []
   },
   "outputs": [
    {
     "data": {
      "text/plain": [
       "0    128.0737\n",
       "1    127.8347\n",
       "2    127.2307\n",
       "3    126.2917\n",
       "4    125.3985\n",
       "Name: DTC, dtype: float64"
      ]
     },
     "execution_count": 5,
     "metadata": {},
     "output_type": "execute_result"
    }
   ],
   "source": [
    "y1_train=train_data['DTC']\n",
    "y2_train=train_data['DTS']\n",
    "y1_train.head()"
   ]
  },
  {
   "cell_type": "code",
   "execution_count": 6,
   "id": "2ac2daeb",
   "metadata": {
    "execution": {
     "iopub.execute_input": "2023-01-20T18:36:09.779953Z",
     "iopub.status.busy": "2023-01-20T18:36:09.779023Z",
     "iopub.status.idle": "2023-01-20T18:36:09.803917Z",
     "shell.execute_reply": "2023-01-20T18:36:09.802131Z"
    },
    "papermill": {
     "duration": 0.037494,
     "end_time": "2023-01-20T18:36:09.806526",
     "exception": false,
     "start_time": "2023-01-20T18:36:09.769032",
     "status": "completed"
    },
    "tags": []
   },
   "outputs": [
    {
     "name": "stdout",
     "output_type": "stream",
     "text": [
      "<class 'pandas.core.frame.DataFrame'>\n",
      "RangeIndex: 30143 entries, 0 to 30142\n",
      "Data columns (total 7 columns):\n",
      " #   Column  Non-Null Count  Dtype  \n",
      "---  ------  --------------  -----  \n",
      " 0   CAL     30143 non-null  float64\n",
      " 1   CNC     30143 non-null  float64\n",
      " 2   GR      30143 non-null  float64\n",
      " 3   HRD     30143 non-null  float64\n",
      " 4   HRM     30143 non-null  float64\n",
      " 5   PE      30143 non-null  float64\n",
      " 6   ZDEN    30143 non-null  float64\n",
      "dtypes: float64(7)\n",
      "memory usage: 1.6 MB\n"
     ]
    }
   ],
   "source": [
    "X_train.info()"
   ]
  },
  {
   "cell_type": "markdown",
   "id": "60fac5b3",
   "metadata": {
    "papermill": {
     "duration": 0.007858,
     "end_time": "2023-01-20T18:36:09.822597",
     "exception": false,
     "start_time": "2023-01-20T18:36:09.814739",
     "status": "completed"
    },
    "tags": []
   },
   "source": [
    "check for null values"
   ]
  },
  {
   "cell_type": "code",
   "execution_count": 7,
   "id": "6758d759",
   "metadata": {
    "execution": {
     "iopub.execute_input": "2023-01-20T18:36:09.841241Z",
     "iopub.status.busy": "2023-01-20T18:36:09.840794Z",
     "iopub.status.idle": "2023-01-20T18:36:09.850668Z",
     "shell.execute_reply": "2023-01-20T18:36:09.849593Z"
    },
    "papermill": {
     "duration": 0.021421,
     "end_time": "2023-01-20T18:36:09.852853",
     "exception": false,
     "start_time": "2023-01-20T18:36:09.831432",
     "status": "completed"
    },
    "tags": []
   },
   "outputs": [
    {
     "data": {
      "text/plain": [
       "CAL     0\n",
       "CNC     0\n",
       "GR      0\n",
       "HRD     0\n",
       "HRM     0\n",
       "PE      0\n",
       "ZDEN    0\n",
       "dtype: int64"
      ]
     },
     "execution_count": 7,
     "metadata": {},
     "output_type": "execute_result"
    }
   ],
   "source": [
    "X_train.isnull().sum()"
   ]
  },
  {
   "cell_type": "code",
   "execution_count": 8,
   "id": "98da1700",
   "metadata": {
    "execution": {
     "iopub.execute_input": "2023-01-20T18:36:09.871368Z",
     "iopub.status.busy": "2023-01-20T18:36:09.870051Z",
     "iopub.status.idle": "2023-01-20T18:36:12.621594Z",
     "shell.execute_reply": "2023-01-20T18:36:12.620507Z"
    },
    "papermill": {
     "duration": 2.763505,
     "end_time": "2023-01-20T18:36:12.624337",
     "exception": false,
     "start_time": "2023-01-20T18:36:09.860832",
     "status": "completed"
    },
    "tags": []
   },
   "outputs": [
    {
     "data": {
      "text/plain": [
       "CAL     1.063369\n",
       "CNC     1.176628\n",
       "GR      0.688087\n",
       "HRD     0.886722\n",
       "HRM     0.814098\n",
       "PE      0.492043\n",
       "ZDEN    0.729638\n",
       "Name: MI Scores, dtype: float64"
      ]
     },
     "execution_count": 8,
     "metadata": {},
     "output_type": "execute_result"
    }
   ],
   "source": [
    "from sklearn.feature_selection import mutual_info_regression\n",
    "mi=mutual_info_regression(X_train,y1_train)\n",
    "mi_scores=pd.Series(mi,name=\"MI Scores\",index=X_train.columns)\n",
    "mi_scores"
   ]
  },
  {
   "cell_type": "markdown",
   "id": "938ae9b6",
   "metadata": {
    "papermill": {
     "duration": 0.007643,
     "end_time": "2023-01-20T18:36:12.639867",
     "exception": false,
     "start_time": "2023-01-20T18:36:12.632224",
     "status": "completed"
    },
    "tags": []
   },
   "source": [
    "using mutual information to rank the features according to target importance"
   ]
  },
  {
   "cell_type": "code",
   "execution_count": 9,
   "id": "e4e87f55",
   "metadata": {
    "execution": {
     "iopub.execute_input": "2023-01-20T18:36:12.657559Z",
     "iopub.status.busy": "2023-01-20T18:36:12.657164Z",
     "iopub.status.idle": "2023-01-20T18:36:12.662755Z",
     "shell.execute_reply": "2023-01-20T18:36:12.661607Z"
    },
    "papermill": {
     "duration": 0.017247,
     "end_time": "2023-01-20T18:36:12.665147",
     "exception": false,
     "start_time": "2023-01-20T18:36:12.647900",
     "status": "completed"
    },
    "tags": []
   },
   "outputs": [],
   "source": [
    "features=mi_scores[mi_scores>0.7].index.tolist()"
   ]
  },
  {
   "cell_type": "code",
   "execution_count": 10,
   "id": "c02c64ab",
   "metadata": {
    "execution": {
     "iopub.execute_input": "2023-01-20T18:36:12.682902Z",
     "iopub.status.busy": "2023-01-20T18:36:12.682516Z",
     "iopub.status.idle": "2023-01-20T18:36:12.688225Z",
     "shell.execute_reply": "2023-01-20T18:36:12.686849Z"
    },
    "papermill": {
     "duration": 0.018654,
     "end_time": "2023-01-20T18:36:12.691869",
     "exception": false,
     "start_time": "2023-01-20T18:36:12.673215",
     "status": "completed"
    },
    "tags": []
   },
   "outputs": [
    {
     "name": "stdout",
     "output_type": "stream",
     "text": [
      "['CAL', 'CNC', 'HRD', 'HRM', 'ZDEN']\n"
     ]
    }
   ],
   "source": [
    "print(features)"
   ]
  },
  {
   "cell_type": "code",
   "execution_count": 11,
   "id": "e414736d",
   "metadata": {
    "execution": {
     "iopub.execute_input": "2023-01-20T18:36:12.711205Z",
     "iopub.status.busy": "2023-01-20T18:36:12.710779Z",
     "iopub.status.idle": "2023-01-20T18:36:12.718086Z",
     "shell.execute_reply": "2023-01-20T18:36:12.716696Z"
    },
    "papermill": {
     "duration": 0.019256,
     "end_time": "2023-01-20T18:36:12.720614",
     "exception": false,
     "start_time": "2023-01-20T18:36:12.701358",
     "status": "completed"
    },
    "tags": []
   },
   "outputs": [
    {
     "data": {
      "text/plain": [
       "(30143, 7)"
      ]
     },
     "execution_count": 11,
     "metadata": {},
     "output_type": "execute_result"
    }
   ],
   "source": [
    "X_train.shape"
   ]
  },
  {
   "cell_type": "code",
   "execution_count": 12,
   "id": "efd26fe8",
   "metadata": {
    "execution": {
     "iopub.execute_input": "2023-01-20T18:36:12.738806Z",
     "iopub.status.busy": "2023-01-20T18:36:12.738381Z",
     "iopub.status.idle": "2023-01-20T18:36:12.745005Z",
     "shell.execute_reply": "2023-01-20T18:36:12.743835Z"
    },
    "papermill": {
     "duration": 0.018334,
     "end_time": "2023-01-20T18:36:12.747173",
     "exception": false,
     "start_time": "2023-01-20T18:36:12.728839",
     "status": "completed"
    },
    "tags": []
   },
   "outputs": [
    {
     "data": {
      "text/plain": [
       "(30143,)"
      ]
     },
     "execution_count": 12,
     "metadata": {},
     "output_type": "execute_result"
    }
   ],
   "source": [
    "y1_train.shape"
   ]
  },
  {
   "cell_type": "markdown",
   "id": "39ff7190",
   "metadata": {
    "papermill": {
     "duration": 0.008135,
     "end_time": "2023-01-20T18:36:12.763607",
     "exception": false,
     "start_time": "2023-01-20T18:36:12.755472",
     "status": "completed"
    },
    "tags": []
   },
   "source": [
    "splitting of datasets"
   ]
  },
  {
   "cell_type": "code",
   "execution_count": 13,
   "id": "22b0a1a7",
   "metadata": {
    "execution": {
     "iopub.execute_input": "2023-01-20T18:36:12.782322Z",
     "iopub.status.busy": "2023-01-20T18:36:12.781858Z",
     "iopub.status.idle": "2023-01-20T18:36:12.798803Z",
     "shell.execute_reply": "2023-01-20T18:36:12.797508Z"
    },
    "papermill": {
     "duration": 0.029351,
     "end_time": "2023-01-20T18:36:12.801508",
     "exception": false,
     "start_time": "2023-01-20T18:36:12.772157",
     "status": "completed"
    },
    "tags": []
   },
   "outputs": [],
   "source": [
    "from sklearn.model_selection import train_test_split\n",
    "X1_Train,X1_test,y1_Train,y1_test=train_test_split(X_train,y1_train,test_size=0.2)\n",
    "X2_Train,X2_test,y2_Train,y2_test=train_test_split(X_train,y2_train,test_size=0.2)"
   ]
  },
  {
   "cell_type": "code",
   "execution_count": 14,
   "id": "1a6f4f36",
   "metadata": {
    "execution": {
     "iopub.execute_input": "2023-01-20T18:36:12.819856Z",
     "iopub.status.busy": "2023-01-20T18:36:12.819459Z",
     "iopub.status.idle": "2023-01-20T18:36:12.826401Z",
     "shell.execute_reply": "2023-01-20T18:36:12.825180Z"
    },
    "papermill": {
     "duration": 0.019057,
     "end_time": "2023-01-20T18:36:12.828915",
     "exception": false,
     "start_time": "2023-01-20T18:36:12.809858",
     "status": "completed"
    },
    "tags": []
   },
   "outputs": [
    {
     "data": {
      "text/plain": [
       "(24114, 7)"
      ]
     },
     "execution_count": 14,
     "metadata": {},
     "output_type": "execute_result"
    }
   ],
   "source": [
    "X1_Train.shape"
   ]
  },
  {
   "cell_type": "code",
   "execution_count": 15,
   "id": "a27ade6b",
   "metadata": {
    "execution": {
     "iopub.execute_input": "2023-01-20T18:36:12.848087Z",
     "iopub.status.busy": "2023-01-20T18:36:12.847683Z",
     "iopub.status.idle": "2023-01-20T18:36:12.855003Z",
     "shell.execute_reply": "2023-01-20T18:36:12.853900Z"
    },
    "papermill": {
     "duration": 0.019399,
     "end_time": "2023-01-20T18:36:12.857388",
     "exception": false,
     "start_time": "2023-01-20T18:36:12.837989",
     "status": "completed"
    },
    "tags": []
   },
   "outputs": [
    {
     "data": {
      "text/plain": [
       "(24114,)"
      ]
     },
     "execution_count": 15,
     "metadata": {},
     "output_type": "execute_result"
    }
   ],
   "source": [
    "y1_Train.shape"
   ]
  },
  {
   "cell_type": "markdown",
   "id": "1421b90a",
   "metadata": {
    "papermill": {
     "duration": 0.008089,
     "end_time": "2023-01-20T18:36:12.873887",
     "exception": false,
     "start_time": "2023-01-20T18:36:12.865798",
     "status": "completed"
    },
    "tags": []
   },
   "source": [
    "fitting and predicting the first target variable"
   ]
  },
  {
   "cell_type": "code",
   "execution_count": 16,
   "id": "a165562e",
   "metadata": {
    "execution": {
     "iopub.execute_input": "2023-01-20T18:36:12.892535Z",
     "iopub.status.busy": "2023-01-20T18:36:12.892125Z",
     "iopub.status.idle": "2023-01-20T18:36:30.525129Z",
     "shell.execute_reply": "2023-01-20T18:36:30.523838Z"
    },
    "papermill": {
     "duration": 17.645775,
     "end_time": "2023-01-20T18:36:30.528014",
     "exception": false,
     "start_time": "2023-01-20T18:36:12.882239",
     "status": "completed"
    },
    "tags": []
   },
   "outputs": [],
   "source": [
    "from sklearn.ensemble import RandomForestRegressor\n",
    "model1=RandomForestRegressor()\n",
    "model1.fit(X1_Train,y1_Train)\n",
    "pred1=model1.predict(X1_test)"
   ]
  },
  {
   "cell_type": "markdown",
   "id": "71684eea",
   "metadata": {
    "papermill": {
     "duration": 0.008161,
     "end_time": "2023-01-20T18:36:30.544986",
     "exception": false,
     "start_time": "2023-01-20T18:36:30.536825",
     "status": "completed"
    },
    "tags": []
   },
   "source": [
    "fitting and predicting the second target variable"
   ]
  },
  {
   "cell_type": "code",
   "execution_count": 17,
   "id": "be441b3a",
   "metadata": {
    "execution": {
     "iopub.execute_input": "2023-01-20T18:36:30.565571Z",
     "iopub.status.busy": "2023-01-20T18:36:30.565157Z",
     "iopub.status.idle": "2023-01-20T18:36:49.199284Z",
     "shell.execute_reply": "2023-01-20T18:36:49.198089Z"
    },
    "papermill": {
     "duration": 18.647822,
     "end_time": "2023-01-20T18:36:49.202179",
     "exception": false,
     "start_time": "2023-01-20T18:36:30.554357",
     "status": "completed"
    },
    "tags": []
   },
   "outputs": [],
   "source": [
    "model2=RandomForestRegressor()\n",
    "model2.fit(X2_Train,y2_Train)\n",
    "pred2=model2.predict(X2_test)"
   ]
  },
  {
   "cell_type": "code",
   "execution_count": 18,
   "id": "d6a1542e",
   "metadata": {
    "execution": {
     "iopub.execute_input": "2023-01-20T18:36:49.221473Z",
     "iopub.status.busy": "2023-01-20T18:36:49.220814Z",
     "iopub.status.idle": "2023-01-20T18:36:49.226866Z",
     "shell.execute_reply": "2023-01-20T18:36:49.225623Z"
    },
    "papermill": {
     "duration": 0.018753,
     "end_time": "2023-01-20T18:36:49.229460",
     "exception": false,
     "start_time": "2023-01-20T18:36:49.210707",
     "status": "completed"
    },
    "tags": []
   },
   "outputs": [],
   "source": [
    "from sklearn.metrics import mean_squared_error\n",
    "rmse1= np.sqrt(mean_squared_error(y1_test,pred1))\n",
    "rmse2= np.sqrt(mean_squared_error(y2_test,pred2))"
   ]
  },
  {
   "cell_type": "code",
   "execution_count": 19,
   "id": "e450da91",
   "metadata": {
    "execution": {
     "iopub.execute_input": "2023-01-20T18:36:49.249578Z",
     "iopub.status.busy": "2023-01-20T18:36:49.249143Z",
     "iopub.status.idle": "2023-01-20T18:36:49.255546Z",
     "shell.execute_reply": "2023-01-20T18:36:49.253986Z"
    },
    "papermill": {
     "duration": 0.019466,
     "end_time": "2023-01-20T18:36:49.257999",
     "exception": false,
     "start_time": "2023-01-20T18:36:49.238533",
     "status": "completed"
    },
    "tags": []
   },
   "outputs": [
    {
     "name": "stdout",
     "output_type": "stream",
     "text": [
      "50.303409816959544\n"
     ]
    }
   ],
   "source": [
    "print(rmse1)"
   ]
  },
  {
   "cell_type": "code",
   "execution_count": 20,
   "id": "c729a4ce",
   "metadata": {
    "execution": {
     "iopub.execute_input": "2023-01-20T18:36:49.278565Z",
     "iopub.status.busy": "2023-01-20T18:36:49.278131Z",
     "iopub.status.idle": "2023-01-20T18:36:49.284931Z",
     "shell.execute_reply": "2023-01-20T18:36:49.283217Z"
    },
    "papermill": {
     "duration": 0.021632,
     "end_time": "2023-01-20T18:36:49.288875",
     "exception": false,
     "start_time": "2023-01-20T18:36:49.267243",
     "status": "completed"
    },
    "tags": []
   },
   "outputs": [
    {
     "name": "stdout",
     "output_type": "stream",
     "text": [
      "131.2545865174295\n"
     ]
    }
   ],
   "source": [
    "print(rmse2)"
   ]
  },
  {
   "cell_type": "markdown",
   "id": "822ff672",
   "metadata": {
    "papermill": {
     "duration": 0.009245,
     "end_time": "2023-01-20T18:36:49.308057",
     "exception": false,
     "start_time": "2023-01-20T18:36:49.298812",
     "status": "completed"
    },
    "tags": []
   },
   "source": [
    "priyanka sucks"
   ]
  },
  {
   "cell_type": "code",
   "execution_count": null,
   "id": "1b2e1176",
   "metadata": {
    "execution": {
     "iopub.execute_input": "2023-01-18T08:27:58.629317Z",
     "iopub.status.busy": "2023-01-18T08:27:58.628858Z",
     "iopub.status.idle": "2023-01-18T08:27:58.636992Z",
     "shell.execute_reply": "2023-01-18T08:27:58.634770Z",
     "shell.execute_reply.started": "2023-01-18T08:27:58.629280Z"
    },
    "papermill": {
     "duration": 0.008991,
     "end_time": "2023-01-20T18:36:49.326179",
     "exception": false,
     "start_time": "2023-01-20T18:36:49.317188",
     "status": "completed"
    },
    "tags": []
   },
   "outputs": [],
   "source": []
  },
  {
   "cell_type": "code",
   "execution_count": null,
   "id": "5bd1b40b",
   "metadata": {
    "papermill": {
     "duration": 0.010004,
     "end_time": "2023-01-20T18:36:49.344959",
     "exception": false,
     "start_time": "2023-01-20T18:36:49.334955",
     "status": "completed"
    },
    "tags": []
   },
   "outputs": [],
   "source": []
  }
 ],
 "metadata": {
  "kernelspec": {
   "display_name": "Python 3",
   "language": "python",
   "name": "python3"
  },
  "language_info": {
   "codemirror_mode": {
    "name": "ipython",
    "version": 3
   },
   "file_extension": ".py",
   "mimetype": "text/x-python",
   "name": "python",
   "nbconvert_exporter": "python",
   "pygments_lexer": "ipython3",
   "version": "3.7.12"
  },
  "papermill": {
   "default_parameters": {},
   "duration": 49.799019,
   "end_time": "2023-01-20T18:36:50.178961",
   "environment_variables": {},
   "exception": null,
   "input_path": "__notebook__.ipynb",
   "output_path": "__notebook__.ipynb",
   "parameters": {},
   "start_time": "2023-01-20T18:36:00.379942",
   "version": "2.3.4"
  }
 },
 "nbformat": 4,
 "nbformat_minor": 5
}
